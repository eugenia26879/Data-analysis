{
 "cells": [
  {
   "cell_type": "markdown",
   "metadata": {},
   "source": [
    "# Project description"
   ]
  },
  {
   "cell_type": "markdown",
   "metadata": {},
   "source": [
    "We have received data on game sales, user and expert ratings, genres and platforms of these games. We need to identify patterns that determine how successful the games are. This will allow us to choose a potentially popular product and plan advertising campaigns.<br>For this project, we will need to determine the most successful platforms, popular genres, as well as the relationship between game sales and their ratings. We need to determine whether the ratings of users and critics affect sales in the whole world and in certain regions. Then check if user ratings of Xbox One and PC platforms are the same, and also whether user ratings of the Action and Sports genres differ."
   ]
  },
  {
   "cell_type": "markdown",
   "metadata": {},
   "source": [
    "## Processing data from a file"
   ]
  },
  {
   "cell_type": "code",
   "execution_count": 1,
   "metadata": {},
   "outputs": [],
   "source": [
    "import pandas as pd\n",
    "import seaborn as sns\n",
    "import numpy as np\n",
    "from scipy import stats as st\n",
    "import matplotlib.pyplot as plt"
   ]
  },
  {
   "cell_type": "code",
   "execution_count": 2,
   "metadata": {},
   "outputs": [],
   "source": [
    "pd.set_option('display.max_columns', None)\n",
    "pd.set_option('display.max_rows', None)"
   ]
  },
  {
   "cell_type": "code",
   "execution_count": null,
   "metadata": {},
   "outputs": [],
   "source": [
    "os.chdir('C:\\\\Users\\\\Владислав\\\\Documents\\\\Проекты\\\\datasets')"
   ]
  },
  {
   "cell_type": "code",
   "execution_count": 3,
   "metadata": {},
   "outputs": [],
   "source": [
    "data = pd.read_csv('games.csv')"
   ]
  },
  {
   "cell_type": "code",
   "execution_count": 5,
   "metadata": {},
   "outputs": [
    {
     "data": {
      "text/html": [
       "<div>\n",
       "<style scoped>\n",
       "    .dataframe tbody tr th:only-of-type {\n",
       "        vertical-align: middle;\n",
       "    }\n",
       "\n",
       "    .dataframe tbody tr th {\n",
       "        vertical-align: top;\n",
       "    }\n",
       "\n",
       "    .dataframe thead th {\n",
       "        text-align: right;\n",
       "    }\n",
       "</style>\n",
       "<table border=\"1\" class=\"dataframe\">\n",
       "  <thead>\n",
       "    <tr style=\"text-align: right;\">\n",
       "      <th></th>\n",
       "      <th>Name</th>\n",
       "      <th>Platform</th>\n",
       "      <th>Year_of_Release</th>\n",
       "      <th>Genre</th>\n",
       "      <th>NA_sales</th>\n",
       "      <th>EU_sales</th>\n",
       "      <th>JP_sales</th>\n",
       "      <th>Other_sales</th>\n",
       "      <th>Critic_Score</th>\n",
       "      <th>User_Score</th>\n",
       "      <th>Rating</th>\n",
       "    </tr>\n",
       "  </thead>\n",
       "  <tbody>\n",
       "    <tr>\n",
       "      <th>0</th>\n",
       "      <td>Wii Sports</td>\n",
       "      <td>Wii</td>\n",
       "      <td>2006.0</td>\n",
       "      <td>Sports</td>\n",
       "      <td>41.36</td>\n",
       "      <td>28.96</td>\n",
       "      <td>3.77</td>\n",
       "      <td>8.45</td>\n",
       "      <td>76.0</td>\n",
       "      <td>8</td>\n",
       "      <td>E</td>\n",
       "    </tr>\n",
       "    <tr>\n",
       "      <th>1</th>\n",
       "      <td>Super Mario Bros.</td>\n",
       "      <td>NES</td>\n",
       "      <td>1985.0</td>\n",
       "      <td>Platform</td>\n",
       "      <td>29.08</td>\n",
       "      <td>3.58</td>\n",
       "      <td>6.81</td>\n",
       "      <td>0.77</td>\n",
       "      <td>NaN</td>\n",
       "      <td>NaN</td>\n",
       "      <td>NaN</td>\n",
       "    </tr>\n",
       "    <tr>\n",
       "      <th>2</th>\n",
       "      <td>Mario Kart Wii</td>\n",
       "      <td>Wii</td>\n",
       "      <td>2008.0</td>\n",
       "      <td>Racing</td>\n",
       "      <td>15.68</td>\n",
       "      <td>12.76</td>\n",
       "      <td>3.79</td>\n",
       "      <td>3.29</td>\n",
       "      <td>82.0</td>\n",
       "      <td>8.3</td>\n",
       "      <td>E</td>\n",
       "    </tr>\n",
       "    <tr>\n",
       "      <th>3</th>\n",
       "      <td>Wii Sports Resort</td>\n",
       "      <td>Wii</td>\n",
       "      <td>2009.0</td>\n",
       "      <td>Sports</td>\n",
       "      <td>15.61</td>\n",
       "      <td>10.93</td>\n",
       "      <td>3.28</td>\n",
       "      <td>2.95</td>\n",
       "      <td>80.0</td>\n",
       "      <td>8</td>\n",
       "      <td>E</td>\n",
       "    </tr>\n",
       "    <tr>\n",
       "      <th>4</th>\n",
       "      <td>Pokemon Red/Pokemon Blue</td>\n",
       "      <td>GB</td>\n",
       "      <td>1996.0</td>\n",
       "      <td>Role-Playing</td>\n",
       "      <td>11.27</td>\n",
       "      <td>8.89</td>\n",
       "      <td>10.22</td>\n",
       "      <td>1.00</td>\n",
       "      <td>NaN</td>\n",
       "      <td>NaN</td>\n",
       "      <td>NaN</td>\n",
       "    </tr>\n",
       "  </tbody>\n",
       "</table>\n",
       "</div>"
      ],
      "text/plain": [
       "                       Name Platform  Year_of_Release         Genre  NA_sales  \\\n",
       "0                Wii Sports      Wii           2006.0        Sports     41.36   \n",
       "1         Super Mario Bros.      NES           1985.0      Platform     29.08   \n",
       "2            Mario Kart Wii      Wii           2008.0        Racing     15.68   \n",
       "3         Wii Sports Resort      Wii           2009.0        Sports     15.61   \n",
       "4  Pokemon Red/Pokemon Blue       GB           1996.0  Role-Playing     11.27   \n",
       "\n",
       "   EU_sales  JP_sales  Other_sales  Critic_Score User_Score Rating  \n",
       "0     28.96      3.77         8.45          76.0          8      E  \n",
       "1      3.58      6.81         0.77           NaN        NaN    NaN  \n",
       "2     12.76      3.79         3.29          82.0        8.3      E  \n",
       "3     10.93      3.28         2.95          80.0          8      E  \n",
       "4      8.89     10.22         1.00           NaN        NaN    NaN  "
      ]
     },
     "execution_count": 5,
     "metadata": {},
     "output_type": "execute_result"
    }
   ],
   "source": [
    "data.head()"
   ]
  },
  {
   "cell_type": "code",
   "execution_count": 6,
   "metadata": {},
   "outputs": [],
   "source": [
    "data.columns = data.columns.str.lower()"
   ]
  },
  {
   "cell_type": "code",
   "execution_count": 7,
   "metadata": {},
   "outputs": [
    {
     "name": "stdout",
     "output_type": "stream",
     "text": [
      "<class 'pandas.core.frame.DataFrame'>\n",
      "RangeIndex: 16715 entries, 0 to 16714\n",
      "Data columns (total 11 columns):\n",
      " #   Column           Non-Null Count  Dtype  \n",
      "---  ------           --------------  -----  \n",
      " 0   name             16713 non-null  object \n",
      " 1   platform         16715 non-null  object \n",
      " 2   year_of_release  16446 non-null  float64\n",
      " 3   genre            16713 non-null  object \n",
      " 4   na_sales         16715 non-null  float64\n",
      " 5   eu_sales         16715 non-null  float64\n",
      " 6   jp_sales         16715 non-null  float64\n",
      " 7   other_sales      16715 non-null  float64\n",
      " 8   critic_score     8137 non-null   float64\n",
      " 9   user_score       10014 non-null  object \n",
      " 10  rating           9949 non-null   object \n",
      "dtypes: float64(6), object(5)\n",
      "memory usage: 1.4+ MB\n"
     ]
    }
   ],
   "source": [
    "data.info()"
   ]
  },
  {
   "cell_type": "code",
   "execution_count": 8,
   "metadata": {},
   "outputs": [
    {
     "data": {
      "text/plain": [
       "0"
      ]
     },
     "execution_count": 8,
     "metadata": {},
     "output_type": "execute_result"
    }
   ],
   "source": [
    "data.duplicated().sum()"
   ]
  },
  {
   "cell_type": "code",
   "execution_count": 9,
   "metadata": {},
   "outputs": [
    {
     "data": {
      "text/html": [
       "<div>\n",
       "<style scoped>\n",
       "    .dataframe tbody tr th:only-of-type {\n",
       "        vertical-align: middle;\n",
       "    }\n",
       "\n",
       "    .dataframe tbody tr th {\n",
       "        vertical-align: top;\n",
       "    }\n",
       "\n",
       "    .dataframe thead th {\n",
       "        text-align: right;\n",
       "    }\n",
       "</style>\n",
       "<table border=\"1\" class=\"dataframe\">\n",
       "  <thead>\n",
       "    <tr style=\"text-align: right;\">\n",
       "      <th></th>\n",
       "      <th>name</th>\n",
       "      <th>platform</th>\n",
       "      <th>year_of_release</th>\n",
       "      <th>genre</th>\n",
       "      <th>na_sales</th>\n",
       "      <th>eu_sales</th>\n",
       "      <th>jp_sales</th>\n",
       "      <th>other_sales</th>\n",
       "      <th>critic_score</th>\n",
       "      <th>user_score</th>\n",
       "      <th>rating</th>\n",
       "    </tr>\n",
       "  </thead>\n",
       "  <tbody>\n",
       "    <tr>\n",
       "      <th>16230</th>\n",
       "      <td>Madden NFL 13</td>\n",
       "      <td>PS3</td>\n",
       "      <td>2012.0</td>\n",
       "      <td>Sports</td>\n",
       "      <td>0.0</td>\n",
       "      <td>0.01</td>\n",
       "      <td>0.00</td>\n",
       "      <td>0.00</td>\n",
       "      <td>83.0</td>\n",
       "      <td>5.5</td>\n",
       "      <td>E</td>\n",
       "    </tr>\n",
       "    <tr>\n",
       "      <th>1591</th>\n",
       "      <td>Need for Speed: Most Wanted</td>\n",
       "      <td>X360</td>\n",
       "      <td>2005.0</td>\n",
       "      <td>Racing</td>\n",
       "      <td>1.0</td>\n",
       "      <td>0.13</td>\n",
       "      <td>0.02</td>\n",
       "      <td>0.10</td>\n",
       "      <td>83.0</td>\n",
       "      <td>8.5</td>\n",
       "      <td>T</td>\n",
       "    </tr>\n",
       "    <tr>\n",
       "      <th>11715</th>\n",
       "      <td>Need for Speed: Most Wanted</td>\n",
       "      <td>PC</td>\n",
       "      <td>2012.0</td>\n",
       "      <td>Racing</td>\n",
       "      <td>0.0</td>\n",
       "      <td>0.06</td>\n",
       "      <td>0.00</td>\n",
       "      <td>0.02</td>\n",
       "      <td>82.0</td>\n",
       "      <td>8.5</td>\n",
       "      <td>T</td>\n",
       "    </tr>\n",
       "    <tr>\n",
       "      <th>4127</th>\n",
       "      <td>Sonic the Hedgehog</td>\n",
       "      <td>PS3</td>\n",
       "      <td>NaN</td>\n",
       "      <td>Platform</td>\n",
       "      <td>0.0</td>\n",
       "      <td>0.48</td>\n",
       "      <td>0.00</td>\n",
       "      <td>0.00</td>\n",
       "      <td>43.0</td>\n",
       "      <td>4.1</td>\n",
       "      <td>E10+</td>\n",
       "    </tr>\n",
       "    <tr>\n",
       "      <th>14244</th>\n",
       "      <td>NaN</td>\n",
       "      <td>GEN</td>\n",
       "      <td>1993.0</td>\n",
       "      <td>NaN</td>\n",
       "      <td>0.0</td>\n",
       "      <td>0.00</td>\n",
       "      <td>0.03</td>\n",
       "      <td>0.00</td>\n",
       "      <td>NaN</td>\n",
       "      <td>NaN</td>\n",
       "      <td>NaN</td>\n",
       "    </tr>\n",
       "  </tbody>\n",
       "</table>\n",
       "</div>"
      ],
      "text/plain": [
       "                              name platform  year_of_release     genre  \\\n",
       "16230                Madden NFL 13      PS3           2012.0    Sports   \n",
       "1591   Need for Speed: Most Wanted     X360           2005.0    Racing   \n",
       "11715  Need for Speed: Most Wanted       PC           2012.0    Racing   \n",
       "4127            Sonic the Hedgehog      PS3              NaN  Platform   \n",
       "14244                          NaN      GEN           1993.0       NaN   \n",
       "\n",
       "       na_sales  eu_sales  jp_sales  other_sales  critic_score user_score  \\\n",
       "16230       0.0      0.01      0.00         0.00          83.0        5.5   \n",
       "1591        1.0      0.13      0.02         0.10          83.0        8.5   \n",
       "11715       0.0      0.06      0.00         0.02          82.0        8.5   \n",
       "4127        0.0      0.48      0.00         0.00          43.0        4.1   \n",
       "14244       0.0      0.00      0.03         0.00           NaN        NaN   \n",
       "\n",
       "      rating  \n",
       "16230      E  \n",
       "1591       T  \n",
       "11715      T  \n",
       "4127    E10+  \n",
       "14244    NaN  "
      ]
     },
     "execution_count": 9,
     "metadata": {},
     "output_type": "execute_result"
    }
   ],
   "source": [
    "data[data.duplicated(subset=['name','platform'])].sort_values(by='name')"
   ]
  },
  {
   "cell_type": "code",
   "execution_count": 10,
   "metadata": {},
   "outputs": [],
   "source": [
    "data = data.drop_duplicates(subset=['name','platform'])"
   ]
  },
  {
   "cell_type": "code",
   "execution_count": 13,
   "metadata": {},
   "outputs": [],
   "source": [
    "data['year_of_release'] = data['year_of_release'].astype('Int64')"
   ]
  },
  {
   "cell_type": "code",
   "execution_count": 14,
   "metadata": {},
   "outputs": [
    {
     "data": {
      "text/plain": [
       "array([76., nan, 82., 80., 89., 58., 87., 91., 61., 97., 95., 77., 88.,\n",
       "       83., 94., 93., 85., 86., 98., 96., 90., 84., 73., 74., 78., 92.,\n",
       "       71., 72., 68., 62., 49., 67., 81., 66., 56., 79., 70., 59., 64.,\n",
       "       75., 60., 63., 69., 50., 25., 42., 44., 55., 48., 57., 29., 47.,\n",
       "       65., 54., 20., 53., 37., 38., 33., 52., 30., 32., 43., 45., 51.,\n",
       "       40., 46., 39., 34., 35., 41., 36., 28., 31., 27., 26., 19., 23.,\n",
       "       24., 21., 17., 22., 13.])"
      ]
     },
     "execution_count": 14,
     "metadata": {},
     "output_type": "execute_result"
    }
   ],
   "source": [
    "data['critic_score'].unique()"
   ]
  },
  {
   "cell_type": "code",
   "execution_count": 15,
   "metadata": {},
   "outputs": [
    {
     "data": {
      "text/plain": [
       "array(['8', nan, '8.3', '8.5', '6.6', '8.4', '8.6', '7.7', '6.3', '7.4',\n",
       "       '8.2', '9', '7.9', '8.1', '8.7', '7.1', '3.4', '5.3', '4.8', '3.2',\n",
       "       '8.9', '6.4', '7.8', '7.5', '2.6', '7.2', '9.2', '7', '7.3', '4.3',\n",
       "       '7.6', '5.7', '5', '9.1', '6.5', 'tbd', '8.8', '6.9', '9.4', '6.8',\n",
       "       '6.1', '6.7', '5.4', '4', '4.9', '4.5', '9.3', '6.2', '4.2', '6',\n",
       "       '3.7', '4.1', '5.8', '5.6', '5.5', '4.4', '4.6', '5.9', '3.9',\n",
       "       '3.1', '2.9', '5.2', '3.3', '4.7', '5.1', '3.5', '2.5', '1.9', '3',\n",
       "       '2.7', '2.2', '2', '9.5', '2.1', '3.6', '2.8', '1.8', '3.8', '0',\n",
       "       '1.6', '9.6', '2.4', '1.7', '1.1', '0.3', '1.5', '0.7', '1.2',\n",
       "       '2.3', '0.5', '1.3', '0.2', '0.6', '1.4', '0.9', '1', '9.7'],\n",
       "      dtype=object)"
      ]
     },
     "execution_count": 15,
     "metadata": {},
     "output_type": "execute_result"
    }
   ],
   "source": [
    "data['user_score'].unique()"
   ]
  },
  {
   "cell_type": "code",
   "execution_count": 16,
   "metadata": {},
   "outputs": [
    {
     "data": {
      "text/plain": [
       "array(['E', nan, 'M', 'T', 'E10+', 'K-A', 'AO', 'EC', 'RP'], dtype=object)"
      ]
     },
     "execution_count": 16,
     "metadata": {},
     "output_type": "execute_result"
    }
   ],
   "source": [
    "data['rating'].unique()"
   ]
  },
  {
   "cell_type": "code",
   "execution_count": 17,
   "metadata": {},
   "outputs": [],
   "source": [
    "data['rating'] = data['rating'].fillna('WR')"
   ]
  },
  {
   "cell_type": "code",
   "execution_count": 18,
   "metadata": {},
   "outputs": [
    {
     "data": {
      "text/plain": [
       "name                  1\n",
       "platform              0\n",
       "year_of_release     268\n",
       "genre                 1\n",
       "na_sales              0\n",
       "eu_sales              0\n",
       "jp_sales              0\n",
       "other_sales           0\n",
       "critic_score       8577\n",
       "user_score         6700\n",
       "rating                0\n",
       "dtype: int64"
      ]
     },
     "execution_count": 18,
     "metadata": {},
     "output_type": "execute_result"
    }
   ],
   "source": [
    "data.isna().sum()"
   ]
  },
  {
   "cell_type": "markdown",
   "metadata": {},
   "source": [
    "We have decided not to fill in the missing data for the following columns: name, year_of_release, genre, critic_score and user_score as we don't have enough information to base our estimations for the missing data."
   ]
  },
  {
   "cell_type": "markdown",
   "metadata": {},
   "source": [
    "We are going to replace 'tbd'(to be discussed) with nan."
   ]
  },
  {
   "cell_type": "code",
   "execution_count": 20,
   "metadata": {},
   "outputs": [],
   "source": [
    "data['user_score'] = pd.to_numeric(data['user_score'], errors='coerce')"
   ]
  },
  {
   "cell_type": "code",
   "execution_count": 21,
   "metadata": {},
   "outputs": [],
   "source": [
    "data['user_score'] = data['user_score'].astype('float64')"
   ]
  },
  {
   "cell_type": "code",
   "execution_count": 24,
   "metadata": {},
   "outputs": [
    {
     "data": {
      "text/plain": [
       "name                  1\n",
       "platform              0\n",
       "year_of_release     268\n",
       "genre                 1\n",
       "na_sales              0\n",
       "eu_sales              0\n",
       "jp_sales              0\n",
       "other_sales           0\n",
       "critic_score       8577\n",
       "user_score         9124\n",
       "rating                0\n",
       "dtype: int64"
      ]
     },
     "execution_count": 24,
     "metadata": {},
     "output_type": "execute_result"
    }
   ],
   "source": [
    "data.isna().sum()"
   ]
  },
  {
   "cell_type": "code",
   "execution_count": 25,
   "metadata": {},
   "outputs": [],
   "source": [
    "data['sales_total'] = data['na_sales'] + data['eu_sales'] + data['jp_sales'] + data['other_sales']"
   ]
  },
  {
   "cell_type": "markdown",
   "metadata": {},
   "source": [
    "## Research analysis"
   ]
  },
  {
   "cell_type": "markdown",
   "metadata": {},
   "source": [
    "### Analysis of annual sales across different platforms "
   ]
  },
  {
   "cell_type": "code",
   "execution_count": 26,
   "metadata": {},
   "outputs": [
    {
     "data": {
      "text/plain": [
       "Text(0, 0.5, 'Количество игр')"
      ]
     },
     "execution_count": 26,
     "metadata": {},
     "output_type": "execute_result"
    },
    {
     "data": {
      "image/png": "[encoded data removed]",
      "text/plain": [
       "<Figure size 1080x432 with 1 Axes>"
      ]
     },
     "metadata": {},
     "output_type": "display_data"
    }
   ],
   "source": [
    "#total annual sales\n",
    "sns.set()\n",
    "data.pivot_table(index='year_of_release', values = 'name', aggfunc = 'nunique').plot(figsize=[15, 6])\n",
    "plt.title('Количество выпускаемых игр')\n",
    "plt.xlabel('Год')\n",
    "plt.ylabel('Количество игр')"
   ]
  },
  {
   "cell_type": "code",
   "execution_count": 27,
   "metadata": {},
   "outputs": [
    {
     "data": {
      "text/plain": [
       "Text(0, 0.5, 'Продажи, млн копий')"
      ]
     },
     "execution_count": 27,
     "metadata": {},
     "output_type": "execute_result"
    },
    {
     "data": {
      "image/png": "[encoded data removed]",
      "text/plain": [
       "<Figure size 576x432 with 1 Axes>"
      ]
     },
     "metadata": {},
     "output_type": "display_data"
    }
   ],
   "source": [
    "#sales for different platforms\n",
    "data.pivot_table(index='platform', values = 'sales_total', aggfunc = 'sum')\\\n",
    ".sort_values(by='sales_total', ascending = False)\\\n",
    ".plot(kind='bar', figsize=(8, 6))\n",
    "    \n",
    "plt.title('Продажи игр по платформам')\n",
    "plt.xlabel('Игровые платформы')\n",
    "plt.ylabel('Продажи, млн копий')"
   ]
  },
  {
   "cell_type": "markdown",
   "metadata": {},
   "source": [
    "Top-10 platfroms based on total sales: PS2, X360, DS, PS3, Wii, GBA, PSP, PS4, PC, 3DS. "
   ]
  },
  {
   "cell_type": "markdown",
   "metadata": {},
   "source": [
    "### Determining platrorms' lifecycles "
   ]
  },
  {
   "cell_type": "code",
   "execution_count": 28,
   "metadata": {},
   "outputs": [
    {
     "data": {
      "text/html": [
       "<div>\n",
       "<style scoped>\n",
       "    .dataframe tbody tr th:only-of-type {\n",
       "        vertical-align: middle;\n",
       "    }\n",
       "\n",
       "    .dataframe tbody tr th {\n",
       "        vertical-align: top;\n",
       "    }\n",
       "\n",
       "    .dataframe thead tr th {\n",
       "        text-align: left;\n",
       "    }\n",
       "\n",
       "    .dataframe thead tr:last-of-type th {\n",
       "        text-align: right;\n",
       "    }\n",
       "</style>\n",
       "<table border=\"1\" class=\"dataframe\">\n",
       "  <thead>\n",
       "    <tr>\n",
       "      <th></th>\n",
       "      <th>min</th>\n",
       "      <th>max</th>\n",
       "      <th>cicle</th>\n",
       "    </tr>\n",
       "    <tr>\n",
       "      <th></th>\n",
       "      <th>year_of_release</th>\n",
       "      <th>year_of_release</th>\n",
       "      <th></th>\n",
       "    </tr>\n",
       "    <tr>\n",
       "      <th>platform</th>\n",
       "      <th></th>\n",
       "      <th></th>\n",
       "      <th></th>\n",
       "    </tr>\n",
       "  </thead>\n",
       "  <tbody>\n",
       "    <tr>\n",
       "      <th>2600</th>\n",
       "      <td>1980</td>\n",
       "      <td>1989</td>\n",
       "      <td>9</td>\n",
       "    </tr>\n",
       "    <tr>\n",
       "      <th>NES</th>\n",
       "      <td>1983</td>\n",
       "      <td>1994</td>\n",
       "      <td>11</td>\n",
       "    </tr>\n",
       "    <tr>\n",
       "      <th>DS</th>\n",
       "      <td>1985</td>\n",
       "      <td>2013</td>\n",
       "      <td>28</td>\n",
       "    </tr>\n",
       "    <tr>\n",
       "      <th>PC</th>\n",
       "      <td>1985</td>\n",
       "      <td>2016</td>\n",
       "      <td>31</td>\n",
       "    </tr>\n",
       "    <tr>\n",
       "      <th>GB</th>\n",
       "      <td>1988</td>\n",
       "      <td>2001</td>\n",
       "      <td>13</td>\n",
       "    </tr>\n",
       "    <tr>\n",
       "      <th>SNES</th>\n",
       "      <td>1990</td>\n",
       "      <td>1999</td>\n",
       "      <td>9</td>\n",
       "    </tr>\n",
       "    <tr>\n",
       "      <th>GEN</th>\n",
       "      <td>1990</td>\n",
       "      <td>1994</td>\n",
       "      <td>4</td>\n",
       "    </tr>\n",
       "    <tr>\n",
       "      <th>GG</th>\n",
       "      <td>1992</td>\n",
       "      <td>1992</td>\n",
       "      <td>0</td>\n",
       "    </tr>\n",
       "    <tr>\n",
       "      <th>SCD</th>\n",
       "      <td>1993</td>\n",
       "      <td>1994</td>\n",
       "      <td>1</td>\n",
       "    </tr>\n",
       "    <tr>\n",
       "      <th>NG</th>\n",
       "      <td>1993</td>\n",
       "      <td>1996</td>\n",
       "      <td>3</td>\n",
       "    </tr>\n",
       "    <tr>\n",
       "      <th>SAT</th>\n",
       "      <td>1994</td>\n",
       "      <td>1999</td>\n",
       "      <td>5</td>\n",
       "    </tr>\n",
       "    <tr>\n",
       "      <th>PS</th>\n",
       "      <td>1994</td>\n",
       "      <td>2003</td>\n",
       "      <td>9</td>\n",
       "    </tr>\n",
       "    <tr>\n",
       "      <th>3DO</th>\n",
       "      <td>1994</td>\n",
       "      <td>1995</td>\n",
       "      <td>1</td>\n",
       "    </tr>\n",
       "    <tr>\n",
       "      <th>TG16</th>\n",
       "      <td>1995</td>\n",
       "      <td>1995</td>\n",
       "      <td>0</td>\n",
       "    </tr>\n",
       "    <tr>\n",
       "      <th>PCFX</th>\n",
       "      <td>1996</td>\n",
       "      <td>1996</td>\n",
       "      <td>0</td>\n",
       "    </tr>\n",
       "    <tr>\n",
       "      <th>N64</th>\n",
       "      <td>1996</td>\n",
       "      <td>2002</td>\n",
       "      <td>6</td>\n",
       "    </tr>\n",
       "    <tr>\n",
       "      <th>DC</th>\n",
       "      <td>1998</td>\n",
       "      <td>2008</td>\n",
       "      <td>10</td>\n",
       "    </tr>\n",
       "    <tr>\n",
       "      <th>WS</th>\n",
       "      <td>1999</td>\n",
       "      <td>2001</td>\n",
       "      <td>2</td>\n",
       "    </tr>\n",
       "    <tr>\n",
       "      <th>GBA</th>\n",
       "      <td>2000</td>\n",
       "      <td>2007</td>\n",
       "      <td>7</td>\n",
       "    </tr>\n",
       "    <tr>\n",
       "      <th>XB</th>\n",
       "      <td>2000</td>\n",
       "      <td>2008</td>\n",
       "      <td>8</td>\n",
       "    </tr>\n",
       "    <tr>\n",
       "      <th>PS2</th>\n",
       "      <td>2000</td>\n",
       "      <td>2011</td>\n",
       "      <td>11</td>\n",
       "    </tr>\n",
       "    <tr>\n",
       "      <th>GC</th>\n",
       "      <td>2001</td>\n",
       "      <td>2007</td>\n",
       "      <td>6</td>\n",
       "    </tr>\n",
       "    <tr>\n",
       "      <th>PSP</th>\n",
       "      <td>2004</td>\n",
       "      <td>2015</td>\n",
       "      <td>11</td>\n",
       "    </tr>\n",
       "    <tr>\n",
       "      <th>X360</th>\n",
       "      <td>2005</td>\n",
       "      <td>2016</td>\n",
       "      <td>11</td>\n",
       "    </tr>\n",
       "    <tr>\n",
       "      <th>PS3</th>\n",
       "      <td>2006</td>\n",
       "      <td>2016</td>\n",
       "      <td>10</td>\n",
       "    </tr>\n",
       "    <tr>\n",
       "      <th>Wii</th>\n",
       "      <td>2006</td>\n",
       "      <td>2016</td>\n",
       "      <td>10</td>\n",
       "    </tr>\n",
       "    <tr>\n",
       "      <th>3DS</th>\n",
       "      <td>2011</td>\n",
       "      <td>2016</td>\n",
       "      <td>5</td>\n",
       "    </tr>\n",
       "    <tr>\n",
       "      <th>PSV</th>\n",
       "      <td>2011</td>\n",
       "      <td>2016</td>\n",
       "      <td>5</td>\n",
       "    </tr>\n",
       "    <tr>\n",
       "      <th>WiiU</th>\n",
       "      <td>2012</td>\n",
       "      <td>2016</td>\n",
       "      <td>4</td>\n",
       "    </tr>\n",
       "    <tr>\n",
       "      <th>PS4</th>\n",
       "      <td>2013</td>\n",
       "      <td>2016</td>\n",
       "      <td>3</td>\n",
       "    </tr>\n",
       "    <tr>\n",
       "      <th>XOne</th>\n",
       "      <td>2013</td>\n",
       "      <td>2016</td>\n",
       "      <td>3</td>\n",
       "    </tr>\n",
       "  </tbody>\n",
       "</table>\n",
       "</div>"
      ],
      "text/plain": [
       "                     min             max cicle\n",
       "         year_of_release year_of_release      \n",
       "platform                                      \n",
       "2600                1980            1989     9\n",
       "NES                 1983            1994    11\n",
       "DS                  1985            2013    28\n",
       "PC                  1985            2016    31\n",
       "GB                  1988            2001    13\n",
       "SNES                1990            1999     9\n",
       "GEN                 1990            1994     4\n",
       "GG                  1992            1992     0\n",
       "SCD                 1993            1994     1\n",
       "NG                  1993            1996     3\n",
       "SAT                 1994            1999     5\n",
       "PS                  1994            2003     9\n",
       "3DO                 1994            1995     1\n",
       "TG16                1995            1995     0\n",
       "PCFX                1996            1996     0\n",
       "N64                 1996            2002     6\n",
       "DC                  1998            2008    10\n",
       "WS                  1999            2001     2\n",
       "GBA                 2000            2007     7\n",
       "XB                  2000            2008     8\n",
       "PS2                 2000            2011    11\n",
       "GC                  2001            2007     6\n",
       "PSP                 2004            2015    11\n",
       "X360                2005            2016    11\n",
       "PS3                 2006            2016    10\n",
       "Wii                 2006            2016    10\n",
       "3DS                 2011            2016     5\n",
       "PSV                 2011            2016     5\n",
       "WiiU                2012            2016     4\n",
       "PS4                 2013            2016     3\n",
       "XOne                2013            2016     3"
      ]
     },
     "metadata": {},
     "output_type": "display_data"
    }
   ],
   "source": [
    "data_pl = data.pivot_table(index='platform', values = 'year_of_release', aggfunc = ['min', 'max'])\\\n",
    ".sort_values(by=('min','year_of_release'))\n",
    "\n",
    "data_pl['cicle'] = data_pl[('max','year_of_release')] - data_pl[('min','year_of_release')]\n",
    "\n",
    "display(data_pl)"
   ]
  },
  {
   "cell_type": "code",
   "execution_count": 29,
   "metadata": {},
   "outputs": [
    {
     "data": {
      "text/plain": [
       "7.612903225806452"
      ]
     },
     "execution_count": 29,
     "metadata": {},
     "output_type": "execute_result"
    }
   ],
   "source": [
    "data_pl['cicle'].mean()"
   ]
  },
  {
   "cell_type": "markdown",
   "metadata": {},
   "source": [
    "On average new gaming platforms emerge every 1-3 years. An average lifecycle of a platform is 7 years."
   ]
  },
  {
   "cell_type": "markdown",
   "metadata": {},
   "source": [
    "### Further analysis"
   ]
  },
  {
   "cell_type": "markdown",
   "metadata": {},
   "source": [
    "From now on I propose to study only the latest data to predict future income, that is, sales since 2012. I would suggest not to take into consideration data from earlier periods, since there was a very large peak in sales, which went down from 2008 and stabilized somewhere around 2012."
   ]
  },
  {
   "cell_type": "code",
   "execution_count": 30,
   "metadata": {},
   "outputs": [],
   "source": [
    "data_recent = data.query('year_of_release >=  2012')"
   ]
  },
  {
   "cell_type": "code",
   "execution_count": 31,
   "metadata": {},
   "outputs": [
    {
     "data": {
      "text/plain": [
       "Text(0, 0.5, 'Продажи, млн копий')"
      ]
     },
     "execution_count": 31,
     "metadata": {},
     "output_type": "execute_result"
    },
    {
     "data": {
      "image/png": "[encoded data removed]",
      "text/plain": [
       "<Figure size 576x432 with 1 Axes>"
      ]
     },
     "metadata": {},
     "output_type": "display_data"
    }
   ],
   "source": [
    "data_recent.groupby(['platform', 'year_of_release'])['sales_total'].sum().unstack('platform').plot(figsize=(8,6))\n",
    "\n",
    "plt.xticks(rotation=45)\n",
    "plt.title('Продажи игр по платформам с 2012 по 2016 гг.')\n",
    "plt.xlabel('Год')\n",
    "plt.ylabel('Продажи, млн копий')"
   ]
  },
  {
   "cell_type": "markdown",
   "metadata": {},
   "source": [
    "Given that the data for 2016 may not be complete, we will look at the data for 2015 to identify potentially profitable platforms. As you can see on the graph, sales are growing for the PS4 and XOne platforms, they are the market leaders. But the 3DS platform has seen a steady decline. A sharp decline in sales since 2013 has been observed for the X360 and PS3 platforms, which is most likely due to the release of updated versions of these platforms to the market."
   ]
  },
  {
   "cell_type": "code",
   "execution_count": 32,
   "metadata": {},
   "outputs": [],
   "source": [
    "data_recent_grouped = data_recent.pivot_table(index=['platform', 'year_of_release'], values = 'sales_total', aggfunc = 'sum')"
   ]
  },
  {
   "cell_type": "code",
   "execution_count": 33,
   "metadata": {},
   "outputs": [],
   "source": [
    "data_recent_grouped = data_recent_grouped.reset_index()"
   ]
  },
  {
   "cell_type": "code",
   "execution_count": 34,
   "metadata": {},
   "outputs": [
    {
     "data": {
      "text/plain": [
       "[Text(0.5, 1.0, 'Продажи игр по платформам')]"
      ]
     },
     "execution_count": 34,
     "metadata": {},
     "output_type": "execute_result"
    },
    {
     "data": {
      "image/png": "[encoded data removed]",
      "text/plain": [
       "<Figure size 936x720 with 1 Axes>"
      ]
     },
     "metadata": {},
     "output_type": "display_data"
    }
   ],
   "source": [
    "plt.figure(figsize=(13,10))\n",
    "sns.boxplot(x='platform', y='sales_total', data=data_recent_grouped).set(title='Продажи игр по платформам')"
   ]
  },
  {
   "cell_type": "markdown",
   "metadata": {},
   "source": [
    "It can be concluded that the average sales of the PS4 platform are the highest in the last period, the median value is 85 million copies, the top 5 also includes: PS3, 3DS, XOne, X360."
   ]
  },
  {
   "cell_type": "markdown",
   "metadata": {},
   "source": [
    "### Assessment of the impact of user and critic ratings on sales"
   ]
  },
  {
   "cell_type": "code",
   "execution_count": 35,
   "metadata": {},
   "outputs": [
    {
     "data": {
      "image/png": "[encoded data removed]",
      "text/plain": [
       "<Figure size 1080x720 with 2 Axes>"
      ]
     },
     "metadata": {},
     "output_type": "display_data"
    }
   ],
   "source": [
    "#creating a sales scatter diagram for the PS3 platform and ratings\n",
    "sales_ps3 =  data_recent.query('platform == \"PS3\"')\n",
    "\n",
    "fig, ax = plt.subplots(2, figsize=(15, 10))\n",
    "\n",
    "ax[0].scatter(x = sales_ps3['critic_score'], y = sales_ps3['sales_total'])\n",
    "ax[0].set_xlabel(\"Оценки критиков\")\n",
    "ax[0].set_ylabel(\"Глобальные продажи\")\n",
    "\n",
    "ax[1].scatter(x = sales_ps3['user_score'], y = sales_ps3['sales_total'])\n",
    "ax[1].set_xlabel(\"Оценки пользователей\")\n",
    "ax[1].set_ylabel(\"Глобальные продажи\")\n",
    "\n",
    "plt.show()"
   ]
  },
  {
   "cell_type": "code",
   "execution_count": 36,
   "metadata": {},
   "outputs": [
    {
     "name": "stdout",
     "output_type": "stream",
     "text": [
      "0.33415175755098564\n"
     ]
    }
   ],
   "source": [
    "#let's determine the correlation coefficient between PS3 platform sales and critics' ratings\n",
    "print(sales_ps3['sales_total'].corr(sales_ps3['critic_score']))"
   ]
  },
  {
   "cell_type": "code",
   "execution_count": 37,
   "metadata": {},
   "outputs": [
    {
     "name": "stdout",
     "output_type": "stream",
     "text": [
      "-0.006205767686051499\n"
     ]
    }
   ],
   "source": [
    "#let's determine the correlation coefficient between PS3 platform sales and users' ratings\n",
    "print(sales_ps3['sales_total'].corr(sales_ps3['user_score']))"
   ]
  },
  {
   "cell_type": "markdown",
   "metadata": {},
   "source": [
    " Given the very low correlation coefficients between critic and user ratings and actual total sales, we can say that there is no connection at all. Most likely, popular games still have high ratings, but not all games that are noted by users and critics have high sales, which is confirmed by the scatter charts. <br> If we look at the leading games by sales on the graph, we see that they still have a high rating, but the rest of the sales are scattered about the same, most games get a critical rating above 60. When we cross the border into a rating of 80, we see that sales are higher in general, but with user ratings it is still less obvious, we observe the greatest concentration of points after crossing the rating of 6 points, however, it cannot be said that sales are much higher if the game has a rating above 8 points."
   ]
  },
  {
   "cell_type": "code",
   "execution_count": 38,
   "metadata": {},
   "outputs": [
    {
     "data": {
      "image/png": "[encoded data removed]",
      "text/plain": [
       "<Figure size 1080x720 with 2 Axes>"
      ]
     },
     "metadata": {},
     "output_type": "display_data"
    }
   ],
   "source": [
    "#creating a sales scatter diagram for the X360 platform and ratings\n",
    "sales_x360 =  data_recent.query('platform == \"X360\"')\n",
    "\n",
    "fig, ax = plt.subplots(2, figsize=(15, 10))\n",
    "\n",
    "ax[0].scatter(x = sales_x360['critic_score'], y = sales_x360['sales_total'])\n",
    "ax[0].set_xlabel(\"Оценки критиков\")\n",
    "ax[0].set_ylabel(\"Глобальные продажи\")\n",
    "\n",
    "ax[1].scatter(x = sales_x360['user_score'], y = sales_x360['sales_total'])\n",
    "ax[1].set_xlabel(\"Оценки пользователей\")\n",
    "ax[1].set_ylabel(\"Глобальные продажи\")\n",
    "\n",
    "plt.show()"
   ]
  },
  {
   "cell_type": "code",
   "execution_count": 39,
   "metadata": {},
   "outputs": [
    {
     "name": "stdout",
     "output_type": "stream",
     "text": [
      "0.36057348885073387\n"
     ]
    }
   ],
   "source": [
    "#let's determine the correlation coefficient between X360 platform sales and critics' ratings\n",
    "print(sales_x360['sales_total'].corr(sales_x360['critic_score']))"
   ]
  },
  {
   "cell_type": "code",
   "execution_count": 40,
   "metadata": {},
   "outputs": [
    {
     "name": "stdout",
     "output_type": "stream",
     "text": [
      "0.006163978646213357\n"
     ]
    }
   ],
   "source": [
    "#let's determine the correlation coefficient between X360 platform sales and users' ratings\n",
    "print(sales_x360['sales_total'].corr(sales_x360['user_score']))"
   ]
  },
  {
   "cell_type": "code",
   "execution_count": 41,
   "metadata": {},
   "outputs": [
    {
     "data": {
      "image/png": "[encoded data removed]",
      "text/plain": [
       "<Figure size 1080x720 with 2 Axes>"
      ]
     },
     "metadata": {},
     "output_type": "display_data"
    }
   ],
   "source": [
    "#creating a sales scatter diagram for the PS4 platform and ratings\n",
    "sales_ps4 =  data_recent.query('platform == \"PS4\"')\n",
    "\n",
    "fig, ax = plt.subplots(2, figsize=(15, 10))\n",
    "\n",
    "ax[0].scatter(x = sales_ps4['critic_score'], y = sales_ps4['sales_total'])\n",
    "ax[0].set_xlabel(\"Оценки критиков\")\n",
    "ax[0].set_ylabel(\"Глобальные продажи\")\n",
    "\n",
    "ax[1].scatter(x = sales_ps4['user_score'], y = sales_ps4['sales_total'])\n",
    "ax[1].set_xlabel(\"Оценки пользователей\")\n",
    "ax[1].set_ylabel(\"Глобальные продажи\")\n",
    "\n",
    "plt.show()"
   ]
  },
  {
   "cell_type": "code",
   "execution_count": 42,
   "metadata": {},
   "outputs": [
    {
     "name": "stdout",
     "output_type": "stream",
     "text": [
      "0.4065679020617816\n"
     ]
    }
   ],
   "source": [
    "#let's determine the correlation coefficient between PS4 platform sales and critics' ratings\n",
    "print(sales_ps4['sales_total'].corr(sales_ps4['critic_score']))"
   ]
  },
  {
   "cell_type": "code",
   "execution_count": 43,
   "metadata": {},
   "outputs": [
    {
     "name": "stdout",
     "output_type": "stream",
     "text": [
      "-0.031957110204556424\n"
     ]
    }
   ],
   "source": [
    "#let's determine the correlation coefficient between PS4 platform sales and users' ratings\n",
    "print(sales_ps4['sales_total'].corr(sales_ps4['user_score']))"
   ]
  },
  {
   "cell_type": "markdown",
   "metadata": {},
   "source": [
    "The situation is similar when we consider sales of other platforms. There is no strong correlation as such. Correlation analysis across other platforms confirms that there is only a weak correlation between sales and critic ratings. The scatterplot also shows that it is more predictable with critics' ratings than with users' ratings. The top selling games have high critics' scores (over 70-80 points)."
   ]
  },
  {
   "cell_type": "markdown",
   "metadata": {},
   "source": [
    "### Analyzing the most popular and profitable genres"
   ]
  },
  {
   "cell_type": "code",
   "execution_count": 44,
   "metadata": {},
   "outputs": [
    {
     "data": {
      "text/html": [
       "<div>\n",
       "<style scoped>\n",
       "    .dataframe tbody tr th:only-of-type {\n",
       "        vertical-align: middle;\n",
       "    }\n",
       "\n",
       "    .dataframe tbody tr th {\n",
       "        vertical-align: top;\n",
       "    }\n",
       "\n",
       "    .dataframe thead tr th {\n",
       "        text-align: left;\n",
       "    }\n",
       "\n",
       "    .dataframe thead tr:last-of-type th {\n",
       "        text-align: right;\n",
       "    }\n",
       "</style>\n",
       "<table border=\"1\" class=\"dataframe\">\n",
       "  <thead>\n",
       "    <tr>\n",
       "      <th></th>\n",
       "      <th>sum</th>\n",
       "      <th>count</th>\n",
       "      <th>mean</th>\n",
       "    </tr>\n",
       "    <tr>\n",
       "      <th></th>\n",
       "      <th>sales_total</th>\n",
       "      <th>sales_total</th>\n",
       "      <th>sales_total</th>\n",
       "    </tr>\n",
       "    <tr>\n",
       "      <th>genre</th>\n",
       "      <th></th>\n",
       "      <th></th>\n",
       "      <th></th>\n",
       "    </tr>\n",
       "  </thead>\n",
       "  <tbody>\n",
       "    <tr>\n",
       "      <th>Shooter</th>\n",
       "      <td>304.73</td>\n",
       "      <td>235</td>\n",
       "      <td>1.296723</td>\n",
       "    </tr>\n",
       "    <tr>\n",
       "      <th>Platform</th>\n",
       "      <td>61.00</td>\n",
       "      <td>85</td>\n",
       "      <td>0.717647</td>\n",
       "    </tr>\n",
       "    <tr>\n",
       "      <th>Sports</th>\n",
       "      <td>181.06</td>\n",
       "      <td>267</td>\n",
       "      <td>0.678127</td>\n",
       "    </tr>\n",
       "    <tr>\n",
       "      <th>Role-Playing</th>\n",
       "      <td>192.80</td>\n",
       "      <td>370</td>\n",
       "      <td>0.521081</td>\n",
       "    </tr>\n",
       "    <tr>\n",
       "      <th>Racing</th>\n",
       "      <td>53.42</td>\n",
       "      <td>114</td>\n",
       "      <td>0.468596</td>\n",
       "    </tr>\n",
       "    <tr>\n",
       "      <th>Misc</th>\n",
       "      <td>85.04</td>\n",
       "      <td>192</td>\n",
       "      <td>0.442917</td>\n",
       "    </tr>\n",
       "    <tr>\n",
       "      <th>Simulation</th>\n",
       "      <td>35.12</td>\n",
       "      <td>80</td>\n",
       "      <td>0.439000</td>\n",
       "    </tr>\n",
       "    <tr>\n",
       "      <th>Action</th>\n",
       "      <td>441.12</td>\n",
       "      <td>1031</td>\n",
       "      <td>0.427856</td>\n",
       "    </tr>\n",
       "    <tr>\n",
       "      <th>Fighting</th>\n",
       "      <td>44.49</td>\n",
       "      <td>109</td>\n",
       "      <td>0.408165</td>\n",
       "    </tr>\n",
       "    <tr>\n",
       "      <th>Strategy</th>\n",
       "      <td>13.34</td>\n",
       "      <td>71</td>\n",
       "      <td>0.187887</td>\n",
       "    </tr>\n",
       "    <tr>\n",
       "      <th>Puzzle</th>\n",
       "      <td>4.89</td>\n",
       "      <td>28</td>\n",
       "      <td>0.174643</td>\n",
       "    </tr>\n",
       "    <tr>\n",
       "      <th>Adventure</th>\n",
       "      <td>29.43</td>\n",
       "      <td>302</td>\n",
       "      <td>0.097450</td>\n",
       "    </tr>\n",
       "  </tbody>\n",
       "</table>\n",
       "</div>"
      ],
      "text/plain": [
       "                     sum       count        mean\n",
       "             sales_total sales_total sales_total\n",
       "genre                                           \n",
       "Shooter           304.73         235    1.296723\n",
       "Platform           61.00          85    0.717647\n",
       "Sports            181.06         267    0.678127\n",
       "Role-Playing      192.80         370    0.521081\n",
       "Racing             53.42         114    0.468596\n",
       "Misc               85.04         192    0.442917\n",
       "Simulation         35.12          80    0.439000\n",
       "Action            441.12        1031    0.427856\n",
       "Fighting           44.49         109    0.408165\n",
       "Strategy           13.34          71    0.187887\n",
       "Puzzle              4.89          28    0.174643\n",
       "Adventure          29.43         302    0.097450"
      ]
     },
     "execution_count": 44,
     "metadata": {},
     "output_type": "execute_result"
    }
   ],
   "source": [
    "data_recent.pivot_table(index='genre', values = 'sales_total', aggfunc = ['sum','count','mean'])\\\n",
    ".sort_values(by=('mean','sales_total'), ascending = False)"
   ]
  },
  {
   "cell_type": "markdown",
   "metadata": {},
   "source": [
    "If we consider total sales, the most popular are the following genres: action, shooter, role-playing. The least popular are games in the following genres: adventure, strategy, puzzle. However, if we consider sales per game released, then the leaders are shooter, platform, sports."
   ]
  },
  {
   "cell_type": "code",
   "execution_count": 45,
   "metadata": {},
   "outputs": [
    {
     "data": {
      "text/plain": [
       "Text(0, 0.5, 'Продажи, млн копий')"
      ]
     },
     "execution_count": 45,
     "metadata": {},
     "output_type": "execute_result"
    },
    {
     "data": {
      "image/png": "[encoded data removed]",
      "text/plain": [
       "<Figure size 432x288 with 1 Axes>"
      ]
     },
     "metadata": {},
     "output_type": "display_data"
    }
   ],
   "source": [
    "#sales by genre\n",
    "data_recent.groupby(['genre'])['sales_total'].sum().sort_values(ascending = False).plot(kind='bar')\n",
    "plt.title('Суммарные продажи игр по жанрам с 2012 по 2016 гг.')\n",
    "plt.xlabel('Жанр')\n",
    "plt.ylabel('Продажи, млн копий')"
   ]
  },
  {
   "cell_type": "markdown",
   "metadata": {},
   "source": [
    "## Analyzing sales by regions"
   ]
  },
  {
   "cell_type": "markdown",
   "metadata": {},
   "source": [
    "### Total sales by regions"
   ]
  },
  {
   "cell_type": "code",
   "execution_count": 46,
   "metadata": {},
   "outputs": [
    {
     "data": {
      "text/html": [
       "<div>\n",
       "<style scoped>\n",
       "    .dataframe tbody tr th:only-of-type {\n",
       "        vertical-align: middle;\n",
       "    }\n",
       "\n",
       "    .dataframe tbody tr th {\n",
       "        vertical-align: top;\n",
       "    }\n",
       "\n",
       "    .dataframe thead th {\n",
       "        text-align: right;\n",
       "    }\n",
       "</style>\n",
       "<table border=\"1\" class=\"dataframe\">\n",
       "  <thead>\n",
       "    <tr style=\"text-align: right;\">\n",
       "      <th></th>\n",
       "      <th>eu_sales</th>\n",
       "      <th>jp_sales</th>\n",
       "      <th>na_sales</th>\n",
       "    </tr>\n",
       "    <tr>\n",
       "      <th>platform</th>\n",
       "      <th></th>\n",
       "      <th></th>\n",
       "      <th></th>\n",
       "    </tr>\n",
       "  </thead>\n",
       "  <tbody>\n",
       "    <tr>\n",
       "      <th>3DS</th>\n",
       "      <td>42.64</td>\n",
       "      <td>87.79</td>\n",
       "      <td>55.31</td>\n",
       "    </tr>\n",
       "    <tr>\n",
       "      <th>DS</th>\n",
       "      <td>3.53</td>\n",
       "      <td>3.72</td>\n",
       "      <td>4.59</td>\n",
       "    </tr>\n",
       "    <tr>\n",
       "      <th>PC</th>\n",
       "      <td>37.70</td>\n",
       "      <td>0.00</td>\n",
       "      <td>19.12</td>\n",
       "    </tr>\n",
       "    <tr>\n",
       "      <th>PS3</th>\n",
       "      <td>106.85</td>\n",
       "      <td>35.29</td>\n",
       "      <td>103.38</td>\n",
       "    </tr>\n",
       "    <tr>\n",
       "      <th>PS4</th>\n",
       "      <td>141.09</td>\n",
       "      <td>15.96</td>\n",
       "      <td>108.74</td>\n",
       "    </tr>\n",
       "    <tr>\n",
       "      <th>PSP</th>\n",
       "      <td>0.42</td>\n",
       "      <td>10.47</td>\n",
       "      <td>0.13</td>\n",
       "    </tr>\n",
       "    <tr>\n",
       "      <th>PSV</th>\n",
       "      <td>11.36</td>\n",
       "      <td>21.04</td>\n",
       "      <td>10.98</td>\n",
       "    </tr>\n",
       "    <tr>\n",
       "      <th>Wii</th>\n",
       "      <td>11.92</td>\n",
       "      <td>3.39</td>\n",
       "      <td>17.45</td>\n",
       "    </tr>\n",
       "    <tr>\n",
       "      <th>WiiU</th>\n",
       "      <td>25.13</td>\n",
       "      <td>13.01</td>\n",
       "      <td>38.10</td>\n",
       "    </tr>\n",
       "    <tr>\n",
       "      <th>X360</th>\n",
       "      <td>74.52</td>\n",
       "      <td>1.57</td>\n",
       "      <td>140.05</td>\n",
       "    </tr>\n",
       "    <tr>\n",
       "      <th>XOne</th>\n",
       "      <td>51.59</td>\n",
       "      <td>0.34</td>\n",
       "      <td>93.12</td>\n",
       "    </tr>\n",
       "  </tbody>\n",
       "</table>\n",
       "</div>"
      ],
      "text/plain": [
       "          eu_sales  jp_sales  na_sales\n",
       "platform                              \n",
       "3DS          42.64     87.79     55.31\n",
       "DS            3.53      3.72      4.59\n",
       "PC           37.70      0.00     19.12\n",
       "PS3         106.85     35.29    103.38\n",
       "PS4         141.09     15.96    108.74\n",
       "PSP           0.42     10.47      0.13\n",
       "PSV          11.36     21.04     10.98\n",
       "Wii          11.92      3.39     17.45\n",
       "WiiU         25.13     13.01     38.10\n",
       "X360         74.52      1.57    140.05\n",
       "XOne         51.59      0.34     93.12"
      ]
     },
     "execution_count": 46,
     "metadata": {},
     "output_type": "execute_result"
    }
   ],
   "source": [
    "data_recent.pivot_table(index='platform', values=['na_sales', 'eu_sales', 'jp_sales'], aggfunc = sum)"
   ]
  },
  {
   "cell_type": "markdown",
   "metadata": {},
   "source": [
    "Top-5 best-sellers for EU region: PS4, PS3, X360, XOne, 3DS. Top-5 best-sellers for JP region: 3DS, PS3, PSV, PS4, WiiU. Top-5 best-sellers for NA region: X360, PS4, PS3, XOne, 3DS. <br>The distribution of sales by platforms in North America and Europe is almost identical, with the only difference that the sales leader in America is X360 platform, its sales in America are almost twice as high as sales in Europe. But the Japanese market differs to a much greater extent. Here, the top-5 also includes PS3 and PS4 platforms, but the market share is much lower. The top seller in Japan is 3DS. The top-5 best-sellers also include platforms WiiUb, PSV, which are not in the top 5 in other regions."
   ]
  },
  {
   "cell_type": "markdown",
   "metadata": {},
   "source": [
    "### Analyzing the most popular genres"
   ]
  },
  {
   "cell_type": "code",
   "execution_count": 47,
   "metadata": {},
   "outputs": [
    {
     "data": {
      "text/html": [
       "<div>\n",
       "<style scoped>\n",
       "    .dataframe tbody tr th:only-of-type {\n",
       "        vertical-align: middle;\n",
       "    }\n",
       "\n",
       "    .dataframe tbody tr th {\n",
       "        vertical-align: top;\n",
       "    }\n",
       "\n",
       "    .dataframe thead th {\n",
       "        text-align: right;\n",
       "    }\n",
       "</style>\n",
       "<table border=\"1\" class=\"dataframe\">\n",
       "  <thead>\n",
       "    <tr style=\"text-align: right;\">\n",
       "      <th></th>\n",
       "      <th>eu_sales</th>\n",
       "      <th>jp_sales</th>\n",
       "      <th>na_sales</th>\n",
       "    </tr>\n",
       "    <tr>\n",
       "      <th>genre</th>\n",
       "      <th></th>\n",
       "      <th></th>\n",
       "      <th></th>\n",
       "    </tr>\n",
       "  </thead>\n",
       "  <tbody>\n",
       "    <tr>\n",
       "      <th>Action</th>\n",
       "      <td>159.34</td>\n",
       "      <td>52.80</td>\n",
       "      <td>177.84</td>\n",
       "    </tr>\n",
       "    <tr>\n",
       "      <th>Adventure</th>\n",
       "      <td>9.46</td>\n",
       "      <td>8.24</td>\n",
       "      <td>8.92</td>\n",
       "    </tr>\n",
       "    <tr>\n",
       "      <th>Fighting</th>\n",
       "      <td>10.79</td>\n",
       "      <td>9.44</td>\n",
       "      <td>19.79</td>\n",
       "    </tr>\n",
       "    <tr>\n",
       "      <th>Misc</th>\n",
       "      <td>26.32</td>\n",
       "      <td>12.86</td>\n",
       "      <td>38.19</td>\n",
       "    </tr>\n",
       "    <tr>\n",
       "      <th>Platform</th>\n",
       "      <td>21.41</td>\n",
       "      <td>8.63</td>\n",
       "      <td>25.38</td>\n",
       "    </tr>\n",
       "    <tr>\n",
       "      <th>Puzzle</th>\n",
       "      <td>1.40</td>\n",
       "      <td>2.14</td>\n",
       "      <td>1.13</td>\n",
       "    </tr>\n",
       "    <tr>\n",
       "      <th>Racing</th>\n",
       "      <td>27.23</td>\n",
       "      <td>2.50</td>\n",
       "      <td>17.22</td>\n",
       "    </tr>\n",
       "    <tr>\n",
       "      <th>Role-Playing</th>\n",
       "      <td>48.53</td>\n",
       "      <td>65.44</td>\n",
       "      <td>64.00</td>\n",
       "    </tr>\n",
       "    <tr>\n",
       "      <th>Shooter</th>\n",
       "      <td>113.47</td>\n",
       "      <td>9.23</td>\n",
       "      <td>144.77</td>\n",
       "    </tr>\n",
       "    <tr>\n",
       "      <th>Simulation</th>\n",
       "      <td>14.55</td>\n",
       "      <td>10.41</td>\n",
       "      <td>7.97</td>\n",
       "    </tr>\n",
       "    <tr>\n",
       "      <th>Sports</th>\n",
       "      <td>69.08</td>\n",
       "      <td>8.01</td>\n",
       "      <td>81.53</td>\n",
       "    </tr>\n",
       "    <tr>\n",
       "      <th>Strategy</th>\n",
       "      <td>5.17</td>\n",
       "      <td>2.88</td>\n",
       "      <td>4.23</td>\n",
       "    </tr>\n",
       "  </tbody>\n",
       "</table>\n",
       "</div>"
      ],
      "text/plain": [
       "              eu_sales  jp_sales  na_sales\n",
       "genre                                     \n",
       "Action          159.34     52.80    177.84\n",
       "Adventure         9.46      8.24      8.92\n",
       "Fighting         10.79      9.44     19.79\n",
       "Misc             26.32     12.86     38.19\n",
       "Platform         21.41      8.63     25.38\n",
       "Puzzle            1.40      2.14      1.13\n",
       "Racing           27.23      2.50     17.22\n",
       "Role-Playing     48.53     65.44     64.00\n",
       "Shooter         113.47      9.23    144.77\n",
       "Simulation       14.55     10.41      7.97\n",
       "Sports           69.08      8.01     81.53\n",
       "Strategy          5.17      2.88      4.23"
      ]
     },
     "execution_count": 47,
     "metadata": {},
     "output_type": "execute_result"
    }
   ],
   "source": [
    "data_recent.pivot_table(index='genre', values=['na_sales', 'eu_sales', 'jp_sales'], aggfunc = sum)"
   ]
  },
  {
   "cell_type": "markdown",
   "metadata": {},
   "source": [
    "Top 5 genres in the EU region: action, shooter, sports, role-playing, racing. Top 5 genres in the JP region: role-playing, action, misc, simulation, fighting. Top 5 for NA region: action, shooter, sports, role-playing, misc.<br> Action, role-playing genres are popular in all regions. The leading genres in NA and Europe regions are identical, except that racing is more popular in Europe whereas misc is more popular in America. However, the portrait of the most popular genres in Japan differs dramatically, here the top includes simulations and fighting genres."
   ]
  },
  {
   "cell_type": "markdown",
   "metadata": {},
   "source": [
    "### ESBR and sales in different regions"
   ]
  },
  {
   "cell_type": "markdown",
   "metadata": {},
   "source": [
    "To analyze the impact of the ESBR rating on sales, we will take general data, and not “relevant” in order to be able to analyze all categories, since not all categories have been presented over the past couple of years."
   ]
  },
  {
   "cell_type": "code",
   "execution_count": 49,
   "metadata": {},
   "outputs": [
    {
     "data": {
      "text/html": [
       "<div>\n",
       "<style scoped>\n",
       "    .dataframe tbody tr th:only-of-type {\n",
       "        vertical-align: middle;\n",
       "    }\n",
       "\n",
       "    .dataframe tbody tr th {\n",
       "        vertical-align: top;\n",
       "    }\n",
       "\n",
       "    .dataframe thead th {\n",
       "        text-align: right;\n",
       "    }\n",
       "</style>\n",
       "<table border=\"1\" class=\"dataframe\">\n",
       "  <thead>\n",
       "    <tr style=\"text-align: right;\">\n",
       "      <th></th>\n",
       "      <th>eu_sales</th>\n",
       "      <th>jp_sales</th>\n",
       "      <th>na_sales</th>\n",
       "    </tr>\n",
       "    <tr>\n",
       "      <th>rating</th>\n",
       "      <th></th>\n",
       "      <th></th>\n",
       "      <th></th>\n",
       "    </tr>\n",
       "  </thead>\n",
       "  <tbody>\n",
       "    <tr>\n",
       "      <th>E</th>\n",
       "      <td>113.02</td>\n",
       "      <td>28.33</td>\n",
       "      <td>114.37</td>\n",
       "    </tr>\n",
       "    <tr>\n",
       "      <th>E10+</th>\n",
       "      <td>55.37</td>\n",
       "      <td>8.19</td>\n",
       "      <td>75.70</td>\n",
       "    </tr>\n",
       "    <tr>\n",
       "      <th>M</th>\n",
       "      <td>193.96</td>\n",
       "      <td>21.20</td>\n",
       "      <td>231.57</td>\n",
       "    </tr>\n",
       "    <tr>\n",
       "      <th>T</th>\n",
       "      <td>52.90</td>\n",
       "      <td>26.02</td>\n",
       "      <td>66.02</td>\n",
       "    </tr>\n",
       "    <tr>\n",
       "      <th>WR</th>\n",
       "      <td>91.50</td>\n",
       "      <td>108.84</td>\n",
       "      <td>103.31</td>\n",
       "    </tr>\n",
       "  </tbody>\n",
       "</table>\n",
       "</div>"
      ],
      "text/plain": [
       "        eu_sales  jp_sales  na_sales\n",
       "rating                              \n",
       "E         113.02     28.33    114.37\n",
       "E10+       55.37      8.19     75.70\n",
       "M         193.96     21.20    231.57\n",
       "T          52.90     26.02     66.02\n",
       "WR         91.50    108.84    103.31"
      ]
     },
     "execution_count": 49,
     "metadata": {},
     "output_type": "execute_result"
    }
   ],
   "source": [
    "data_recent.pivot_table(index='rating', values=['na_sales', 'eu_sales', 'jp_sales'], aggfunc = sum)"
   ]
  },
  {
   "cell_type": "markdown",
   "metadata": {},
   "source": [
    "E, M, WR rated games have the highest sales in all regions. At the same time, in Japan, games without a rating are the leader in sales."
   ]
  },
  {
   "cell_type": "markdown",
   "metadata": {},
   "source": [
    "## Hypotheses testing"
   ]
  },
  {
   "cell_type": "markdown",
   "metadata": {},
   "source": [
    "### Hypothesis 1: The user ratings of the Xbox One and PC platforms are the same"
   ]
  },
  {
   "cell_type": "markdown",
   "metadata": {},
   "source": [
    "H0: Xbox One and PC user ratings are equal. H1: Xbox One and PC platform user ratings are not equal."
   ]
  },
  {
   "cell_type": "code",
   "execution_count": 50,
   "metadata": {},
   "outputs": [],
   "source": [
    "data_pc = data_recent.query('platform == \"PC\"')\n",
    "data_xone = data_recent.query('platform == \"XOne\"')"
   ]
  },
  {
   "cell_type": "code",
   "execution_count": 51,
   "metadata": {},
   "outputs": [],
   "source": [
    "data_pc = data_pc[data_pc['user_score'].notna()]\n",
    "data_xone = data_xone[data_xone['user_score'].notna()]"
   ]
  },
  {
   "cell_type": "code",
   "execution_count": 52,
   "metadata": {},
   "outputs": [
    {
     "name": "stdout",
     "output_type": "stream",
     "text": [
      "p-значение: 0.5065901030514672\n",
      "Не получилось отвергнуть нулевую гипотезу\n"
     ]
    }
   ],
   "source": [
    "alpha = 0.05\n",
    "results = st.ttest_ind(\n",
    "    data_pc['user_score'], \n",
    "    data_xone['user_score'], equal_var = False)\n",
    "\n",
    "print('p-значение:', results.pvalue)\n",
    "\n",
    "if results.pvalue < alpha:\n",
    "    print(\"Отвергаем нулевую гипотезу\")\n",
    "else:\n",
    "    print(\"Не получилось отвергнуть нулевую гипотезу\") "
   ]
  },
  {
   "cell_type": "markdown",
   "metadata": {},
   "source": [
    "<b>Conclusion 1:</b>we accept the null hypothesis. The user ratings of the Xbox One and PC platform are equal."
   ]
  },
  {
   "cell_type": "markdown",
   "metadata": {},
   "source": [
    "### Hypothesis 2: users' ratings for action and sports genres are different"
   ]
  },
  {
   "cell_type": "markdown",
   "metadata": {},
   "source": [
    "H0: users' ratings in the action genre are equal to those in the sports genre. H1: Action user ratings are not equal to sports ratings."
   ]
  },
  {
   "cell_type": "code",
   "execution_count": 53,
   "metadata": {},
   "outputs": [],
   "source": [
    "data_a = data_recent.query('genre == \"Action\"')\n",
    "data_sp = data_recent.query('genre == \"Sports\"')"
   ]
  },
  {
   "cell_type": "code",
   "execution_count": 54,
   "metadata": {},
   "outputs": [],
   "source": [
    "data_a = data_a[data_a['user_score'].notna()]\n",
    "data_sp = data_sp[data_sp['user_score'].notna()]"
   ]
  },
  {
   "cell_type": "code",
   "execution_count": 55,
   "metadata": {},
   "outputs": [
    {
     "name": "stdout",
     "output_type": "stream",
     "text": [
      "p-значение: 5.98945806646755e-20\n",
      "Отвергаем нулевую гипотезу\n"
     ]
    }
   ],
   "source": [
    "alpha = 0.05\n",
    "results = st.ttest_ind(\n",
    "    data_a['user_score'], \n",
    "    data_sp['user_score'], equal_var = False)\n",
    "\n",
    "print('p-значение:', results.pvalue)\n",
    "\n",
    "if results.pvalue < alpha:\n",
    "    print(\"Отвергаем нулевую гипотезу\")\n",
    "else:\n",
    "    print(\"Не получилось отвергнуть нулевую гипотезу\") "
   ]
  },
  {
   "cell_type": "markdown",
   "metadata": {},
   "source": [
    "<b>Conclusion 2:</b>we reject the null hypothesis. User ratings in the action and sports genres are different."
   ]
  },
  {
   "cell_type": "markdown",
   "metadata": {},
   "source": [
    "## Conclusions"
   ]
  },
  {
   "cell_type": "markdown",
   "metadata": {},
   "source": [
    "In our analysis, we identified the leading platforms, analyzed the number of games being released and defined the life cycle of different platforms. We checked whether there is a connection between sales and reviews from critics and users. Identified the most popular genres. Then we looked at the preferences of players in different regions: Europe, Japan, North America.\n",
    "\n",
    "The peak in the number of released games was in 2005-2010, after 2008 the number of released games has been on the decline. The most popular platforms from 1980 to 2016 are: PS2, X360, DS, PS3, Wii. On average, a new gaming platform appears every 1 - 3 years, and the average platform life cycle is about 7 years.\n",
    "\n",
    "If we take the current period, namely sales since 2012, then the PS4 and XOne platforms are gaining popularity, when their predecessors PS3, X360 have been losing positions since 2013, which is directly related to the release of the updated versions.\n",
    "\n",
    "Determining the relationship between sales and ratings from critics and users, we came to the conclusion that there is no direct strong relationship, however, it is worth emphasizing that most bestsellers have high critical ratings, but fans are not so unanimous in their ratings.\n",
    "\n",
    "The most popular genres(according to total sales) are action, shooter, role-playing games, and the least popular are adventure, puzzle, strategy games. But the most profitable genres can be considered shooter, platform, sports. This tells us that gamers prefer more fast-paced games.\n",
    "\n",
    "Considering the preferences of players by region (North America, Europe, Japan), one feature of the Japanese market can be noticed - this is the preference for portable consoles (PSV, WiiU, 3DS). The American and European markets as a whole differ little in their preferences both in genres and in platforms, here preference is given to games in the genre of action, shooter, sports. But the Japanese market gives preference to games in the genres of role-playing, action, misc, simulation. E-rated, M-rated games, and unrated games in general sell best. At the same time, games without a rating are mostly popular in Japan.\n",
    "\n",
    "Testing the hypotheses, we came to the conclusions that user ratings for the PC and Xone platforms do not differ. On the other hand, the ratings for the action and sports genres differ.\n",
    "\n",
    "In general, based on the analyzed data, we can say that the most profitable games will be of the PS4 and XOne platforms in the shooter, role-playing, sports, platform genres with E, M ratings, as well as no rating at all.\n"
   ]
  }
 ],
 "metadata": {
  "ExecuteTimeLog": [
   {
    "duration": 1602,
    "start_time": "2022-05-20T11:27:41.683Z"
   },
   {
    "duration": 4,
    "start_time": "2022-05-20T11:27:45.901Z"
   },
   {
    "duration": 99,
    "start_time": "2022-05-20T11:27:48.333Z"
   },
   {
    "duration": 23,
    "start_time": "2022-05-20T11:27:50.925Z"
   },
   {
    "duration": 4,
    "start_time": "2022-05-20T11:27:53.192Z"
   },
   {
    "duration": 24,
    "start_time": "2022-05-20T11:27:56.241Z"
   },
   {
    "duration": 28,
    "start_time": "2022-05-20T11:28:00.574Z"
   },
   {
    "duration": 5,
    "start_time": "2022-05-20T11:28:03.510Z"
   },
   {
    "duration": 7,
    "start_time": "2022-05-20T11:28:05.812Z"
   },
   {
    "duration": 7,
    "start_time": "2022-05-20T11:28:17.137Z"
   },
   {
    "duration": 7,
    "start_time": "2022-05-20T11:28:21.097Z"
   },
   {
    "duration": 9,
    "start_time": "2022-05-20T11:28:25.126Z"
   },
   {
    "duration": 17,
    "start_time": "2022-05-20T11:29:09.953Z"
   },
   {
    "duration": 5,
    "start_time": "2022-05-20T11:29:14.058Z"
   },
   {
    "duration": 8,
    "start_time": "2022-05-20T11:29:17.094Z"
   },
   {
    "duration": 7,
    "start_time": "2022-05-20T11:29:20.101Z"
   },
   {
    "duration": 246,
    "start_time": "2022-05-20T11:29:26.575Z"
   },
   {
    "duration": 489,
    "start_time": "2022-05-20T11:29:43.541Z"
   },
   {
    "duration": 25,
    "start_time": "2022-05-20T11:29:56.835Z"
   },
   {
    "duration": 117,
    "start_time": "2022-05-20T11:31:21.491Z"
   },
   {
    "duration": 26,
    "start_time": "2022-05-20T11:31:38.489Z"
   },
   {
    "duration": 9,
    "start_time": "2022-05-20T11:32:53.439Z"
   },
   {
    "duration": 545,
    "start_time": "2022-05-20T11:35:26.798Z"
   },
   {
    "duration": 50,
    "start_time": "2022-05-20T11:37:28.394Z"
   },
   {
    "duration": 13,
    "start_time": "2022-05-20T11:37:50.296Z"
   },
   {
    "duration": 586,
    "start_time": "2022-05-20T11:37:52.525Z"
   },
   {
    "duration": 452,
    "start_time": "2022-05-20T11:41:43.316Z"
   },
   {
    "duration": 439,
    "start_time": "2022-05-20T11:42:48.820Z"
   },
   {
    "duration": 36,
    "start_time": "2022-05-20T11:45:07.252Z"
   },
   {
    "duration": 10,
    "start_time": "2022-05-20T11:56:36.335Z"
   },
   {
    "duration": 12,
    "start_time": "2022-05-20T12:01:37.737Z"
   },
   {
    "duration": 16,
    "start_time": "2022-05-20T12:01:41.293Z"
   },
   {
    "duration": 5,
    "start_time": "2022-05-20T12:01:43.979Z"
   },
   {
    "duration": 355,
    "start_time": "2022-05-20T12:01:47.326Z"
   },
   {
    "duration": 408,
    "start_time": "2022-05-20T12:01:52.728Z"
   },
   {
    "duration": 18,
    "start_time": "2022-05-20T12:09:14.170Z"
   },
   {
    "duration": 20,
    "start_time": "2022-05-20T12:28:42.308Z"
   },
   {
    "duration": 332,
    "start_time": "2022-05-20T12:32:36.528Z"
   },
   {
    "duration": 379,
    "start_time": "2022-05-20T12:33:31.278Z"
   },
   {
    "duration": 349,
    "start_time": "2022-05-20T12:34:26.989Z"
   },
   {
    "duration": 383,
    "start_time": "2022-05-20T12:36:02.576Z"
   },
   {
    "duration": 5,
    "start_time": "2022-05-20T12:40:11.225Z"
   },
   {
    "duration": 5,
    "start_time": "2022-05-20T12:40:33.896Z"
   },
   {
    "duration": 289,
    "start_time": "2022-05-20T12:41:38.754Z"
   },
   {
    "duration": 425,
    "start_time": "2022-05-20T12:52:39.616Z"
   },
   {
    "duration": 5,
    "start_time": "2022-05-20T12:57:58.178Z"
   },
   {
    "duration": 5,
    "start_time": "2022-05-20T12:58:03.303Z"
   },
   {
    "duration": 11,
    "start_time": "2022-05-20T14:29:07.616Z"
   },
   {
    "duration": 75,
    "start_time": "2022-05-20T14:29:20.318Z"
   },
   {
    "duration": 8,
    "start_time": "2022-05-20T14:29:28.243Z"
   },
   {
    "duration": 12,
    "start_time": "2022-05-20T14:29:56.818Z"
   },
   {
    "duration": 11,
    "start_time": "2022-05-20T14:30:35.542Z"
   },
   {
    "duration": 23,
    "start_time": "2022-05-20T14:31:33.655Z"
   },
   {
    "duration": 8,
    "start_time": "2022-05-20T14:31:42.253Z"
   },
   {
    "duration": 8,
    "start_time": "2022-05-20T14:31:52.097Z"
   },
   {
    "duration": 219,
    "start_time": "2022-05-20T14:32:34.889Z"
   },
   {
    "duration": 22,
    "start_time": "2022-05-20T14:34:45.996Z"
   },
   {
    "duration": 35,
    "start_time": "2022-05-20T14:35:03.942Z"
   },
   {
    "duration": 22,
    "start_time": "2022-05-20T14:35:28.113Z"
   },
   {
    "duration": 49,
    "start_time": "2022-05-20T14:48:30.212Z"
   },
   {
    "duration": 18,
    "start_time": "2022-05-20T14:48:41.878Z"
   },
   {
    "duration": 5,
    "start_time": "2022-05-20T14:48:57.014Z"
   },
   {
    "duration": 9,
    "start_time": "2022-05-20T14:49:07.875Z"
   },
   {
    "duration": 5,
    "start_time": "2022-05-20T14:49:20.139Z"
   },
   {
    "duration": 39,
    "start_time": "2022-05-20T14:49:29.411Z"
   },
   {
    "duration": 24,
    "start_time": "2022-05-20T14:51:55.991Z"
   },
   {
    "duration": 20,
    "start_time": "2022-05-20T14:52:05.817Z"
   },
   {
    "duration": 10,
    "start_time": "2022-05-20T14:55:34.287Z"
   },
   {
    "duration": 21,
    "start_time": "2022-05-20T14:55:49.367Z"
   },
   {
    "duration": 14,
    "start_time": "2022-05-20T14:57:02.625Z"
   },
   {
    "duration": 17,
    "start_time": "2022-05-20T15:12:36.430Z"
   },
   {
    "duration": 16,
    "start_time": "2022-05-20T15:41:57.734Z"
   },
   {
    "duration": 26,
    "start_time": "2022-05-20T15:43:05.060Z"
   },
   {
    "duration": 22,
    "start_time": "2022-05-20T16:48:53.583Z"
   },
   {
    "duration": 10,
    "start_time": "2022-05-20T16:51:55.603Z"
   },
   {
    "duration": 18,
    "start_time": "2022-05-20T16:51:57.845Z"
   },
   {
    "duration": 9,
    "start_time": "2022-05-20T16:53:04.213Z"
   },
   {
    "duration": 17,
    "start_time": "2022-05-20T16:53:06.611Z"
   },
   {
    "duration": 6,
    "start_time": "2022-05-20T16:53:35.503Z"
   },
   {
    "duration": 7,
    "start_time": "2022-05-20T16:56:47.690Z"
   },
   {
    "duration": 7,
    "start_time": "2022-05-20T16:56:57.503Z"
   },
   {
    "duration": 8,
    "start_time": "2022-05-20T16:57:50.895Z"
   },
   {
    "duration": 11,
    "start_time": "2022-05-20T16:58:00.418Z"
   },
   {
    "duration": 8,
    "start_time": "2022-05-20T16:58:36.311Z"
   },
   {
    "duration": 159,
    "start_time": "2022-05-20T16:58:56.306Z"
   },
   {
    "duration": 520,
    "start_time": "2022-05-20T17:00:30.183Z"
   },
   {
    "duration": 4,
    "start_time": "2022-05-20T17:04:31.446Z"
   },
   {
    "duration": 8,
    "start_time": "2022-05-20T17:04:46.140Z"
   },
   {
    "duration": 9,
    "start_time": "2022-05-20T17:05:18.495Z"
   },
   {
    "duration": 6,
    "start_time": "2022-05-20T17:05:28.566Z"
   },
   {
    "duration": 9,
    "start_time": "2022-05-20T17:11:11.746Z"
   },
   {
    "duration": 5,
    "start_time": "2022-05-20T17:11:35.239Z"
   },
   {
    "duration": 358,
    "start_time": "2022-05-20T18:31:24.291Z"
   },
   {
    "duration": 580,
    "start_time": "2022-05-20T18:31:36.541Z"
   },
   {
    "duration": 391,
    "start_time": "2022-05-20T18:31:48.084Z"
   },
   {
    "duration": 509,
    "start_time": "2022-05-20T18:33:16.728Z"
   },
   {
    "duration": 19,
    "start_time": "2022-05-20T18:33:53.162Z"
   },
   {
    "duration": 432,
    "start_time": "2022-05-20T18:34:07.084Z"
   },
   {
    "duration": 434,
    "start_time": "2022-05-20T18:34:18.847Z"
   },
   {
    "duration": 368,
    "start_time": "2022-05-20T18:34:34.244Z"
   },
   {
    "duration": 17,
    "start_time": "2022-05-20T18:57:41.178Z"
   },
   {
    "duration": 14,
    "start_time": "2022-05-20T18:57:47.613Z"
   },
   {
    "duration": 80,
    "start_time": "2022-05-20T18:58:13.080Z"
   },
   {
    "duration": 812,
    "start_time": "2022-05-20T19:01:00.577Z"
   },
   {
    "duration": 28,
    "start_time": "2022-05-20T19:01:08.491Z"
   },
   {
    "duration": 15,
    "start_time": "2022-05-20T19:02:46.760Z"
   },
   {
    "duration": 395,
    "start_time": "2022-05-20T19:06:19.333Z"
   },
   {
    "duration": 343,
    "start_time": "2022-05-20T19:07:31.551Z"
   },
   {
    "duration": 338,
    "start_time": "2022-05-20T19:10:01.711Z"
   },
   {
    "duration": 191,
    "start_time": "2022-05-20T19:10:49.512Z"
   },
   {
    "duration": 1307,
    "start_time": "2022-05-21T08:26:17.270Z"
   },
   {
    "duration": 4,
    "start_time": "2022-05-21T08:26:20.921Z"
   },
   {
    "duration": 186,
    "start_time": "2022-05-21T08:26:25.876Z"
   },
   {
    "duration": 20,
    "start_time": "2022-05-21T08:26:31.770Z"
   },
   {
    "duration": 3,
    "start_time": "2022-05-21T08:26:37.413Z"
   },
   {
    "duration": 16,
    "start_time": "2022-05-21T08:26:39.820Z"
   },
   {
    "duration": 18,
    "start_time": "2022-05-21T08:26:42.212Z"
   },
   {
    "duration": 5,
    "start_time": "2022-05-21T08:26:51.161Z"
   },
   {
    "duration": 5,
    "start_time": "2022-05-21T08:26:55.162Z"
   },
   {
    "duration": 6,
    "start_time": "2022-05-21T08:26:57.192Z"
   },
   {
    "duration": 4,
    "start_time": "2022-05-21T08:27:04.277Z"
   },
   {
    "duration": 9,
    "start_time": "2022-05-21T08:27:07.395Z"
   },
   {
    "duration": 8,
    "start_time": "2022-05-21T08:27:53.166Z"
   },
   {
    "duration": 7,
    "start_time": "2022-05-21T08:28:05.981Z"
   },
   {
    "duration": 3,
    "start_time": "2022-05-21T08:28:16.755Z"
   },
   {
    "duration": 10,
    "start_time": "2022-05-21T08:28:26.554Z"
   },
   {
    "duration": 9,
    "start_time": "2022-05-21T08:28:41.965Z"
   },
   {
    "duration": 4,
    "start_time": "2022-05-21T08:28:51.170Z"
   },
   {
    "duration": 13,
    "start_time": "2022-05-21T08:28:54.272Z"
   },
   {
    "duration": 6,
    "start_time": "2022-05-21T08:28:57.601Z"
   },
   {
    "duration": 219,
    "start_time": "2022-05-21T08:29:10.982Z"
   },
   {
    "duration": 467,
    "start_time": "2022-05-21T08:29:40.485Z"
   },
   {
    "duration": 351,
    "start_time": "2022-05-21T08:30:03.784Z"
   },
   {
    "duration": 30,
    "start_time": "2022-05-21T08:30:40.420Z"
   },
   {
    "duration": 6,
    "start_time": "2022-05-21T08:30:46.270Z"
   },
   {
    "duration": 7,
    "start_time": "2022-05-21T08:31:00.688Z"
   },
   {
    "duration": 363,
    "start_time": "2022-05-21T08:31:34.486Z"
   },
   {
    "duration": 16,
    "start_time": "2022-05-21T08:31:45.587Z"
   },
   {
    "duration": 4,
    "start_time": "2022-05-21T08:31:47.770Z"
   },
   {
    "duration": 380,
    "start_time": "2022-05-21T08:31:50.199Z"
   },
   {
    "duration": 327,
    "start_time": "2022-05-21T08:32:02.992Z"
   },
   {
    "duration": 4,
    "start_time": "2022-05-21T08:32:09.108Z"
   },
   {
    "duration": 4,
    "start_time": "2022-05-21T08:32:11.419Z"
   },
   {
    "duration": 381,
    "start_time": "2022-05-21T08:32:16.786Z"
   },
   {
    "duration": 4,
    "start_time": "2022-05-21T08:32:22.280Z"
   },
   {
    "duration": 5,
    "start_time": "2022-05-21T08:32:24.465Z"
   },
   {
    "duration": 21,
    "start_time": "2022-05-21T08:32:34.777Z"
   },
   {
    "duration": 187,
    "start_time": "2022-05-21T08:32:41.078Z"
   },
   {
    "duration": 17,
    "start_time": "2022-05-21T08:32:47.786Z"
   },
   {
    "duration": 15,
    "start_time": "2022-05-21T08:32:52.232Z"
   },
   {
    "duration": 15,
    "start_time": "2022-05-21T08:32:57.470Z"
   },
   {
    "duration": 8,
    "start_time": "2022-05-21T08:33:02.670Z"
   },
   {
    "duration": 5,
    "start_time": "2022-05-21T08:33:05.020Z"
   },
   {
    "duration": 8,
    "start_time": "2022-05-21T08:33:11.988Z"
   },
   {
    "duration": 6,
    "start_time": "2022-05-21T08:33:13.919Z"
   },
   {
    "duration": 1396,
    "start_time": "2022-05-21T16:53:11.126Z"
   },
   {
    "duration": 5,
    "start_time": "2022-05-21T16:53:12.525Z"
   },
   {
    "duration": 68,
    "start_time": "2022-05-21T16:53:12.532Z"
   },
   {
    "duration": 24,
    "start_time": "2022-05-21T16:53:12.602Z"
   },
   {
    "duration": 4,
    "start_time": "2022-05-21T16:53:12.629Z"
   },
   {
    "duration": 23,
    "start_time": "2022-05-21T16:53:12.635Z"
   },
   {
    "duration": 43,
    "start_time": "2022-05-21T16:53:12.660Z"
   },
   {
    "duration": 5,
    "start_time": "2022-05-21T16:53:12.706Z"
   },
   {
    "duration": 7,
    "start_time": "2022-05-21T16:53:12.713Z"
   },
   {
    "duration": 9,
    "start_time": "2022-05-21T16:53:12.722Z"
   },
   {
    "duration": 8,
    "start_time": "2022-05-21T16:53:12.733Z"
   },
   {
    "duration": 54,
    "start_time": "2022-05-21T16:53:12.743Z"
   },
   {
    "duration": 11,
    "start_time": "2022-05-21T16:53:12.799Z"
   },
   {
    "duration": 13,
    "start_time": "2022-05-21T16:53:12.815Z"
   },
   {
    "duration": 6,
    "start_time": "2022-05-21T16:53:12.831Z"
   },
   {
    "duration": 45,
    "start_time": "2022-05-21T16:53:12.839Z"
   },
   {
    "duration": 15,
    "start_time": "2022-05-21T16:53:12.887Z"
   },
   {
    "duration": 5,
    "start_time": "2022-05-21T16:53:12.905Z"
   },
   {
    "duration": 15,
    "start_time": "2022-05-21T16:53:12.912Z"
   },
   {
    "duration": 7,
    "start_time": "2022-05-21T16:53:12.929Z"
   },
   {
    "duration": 272,
    "start_time": "2022-05-21T16:53:12.938Z"
   },
   {
    "duration": 464,
    "start_time": "2022-05-21T16:53:13.212Z"
   },
   {
    "duration": 44,
    "start_time": "2022-05-21T16:53:13.678Z"
   },
   {
    "duration": 13,
    "start_time": "2022-05-21T16:53:13.724Z"
   },
   {
    "duration": 18,
    "start_time": "2022-05-21T16:53:13.739Z"
   },
   {
    "duration": 470,
    "start_time": "2022-05-21T16:53:13.759Z"
   },
   {
    "duration": 13,
    "start_time": "2022-05-21T16:53:14.232Z"
   },
   {
    "duration": 5,
    "start_time": "2022-05-21T16:53:14.247Z"
   },
   {
    "duration": 477,
    "start_time": "2022-05-21T16:53:14.254Z"
   },
   {
    "duration": 417,
    "start_time": "2022-05-21T16:53:14.734Z"
   },
   {
    "duration": 6,
    "start_time": "2022-05-21T16:53:15.153Z"
   },
   {
    "duration": 24,
    "start_time": "2022-05-21T16:53:15.162Z"
   },
   {
    "duration": 387,
    "start_time": "2022-05-21T16:53:15.188Z"
   },
   {
    "duration": 10,
    "start_time": "2022-05-21T16:53:15.577Z"
   },
   {
    "duration": 7,
    "start_time": "2022-05-21T16:53:15.588Z"
   },
   {
    "duration": 25,
    "start_time": "2022-05-21T16:53:15.597Z"
   },
   {
    "duration": 303,
    "start_time": "2022-05-21T16:53:15.624Z"
   },
   {
    "duration": 24,
    "start_time": "2022-05-21T16:53:15.930Z"
   },
   {
    "duration": 37,
    "start_time": "2022-05-21T16:53:15.957Z"
   },
   {
    "duration": 32,
    "start_time": "2022-05-21T16:53:15.996Z"
   },
   {
    "duration": 13,
    "start_time": "2022-05-21T16:53:16.033Z"
   },
   {
    "duration": 9,
    "start_time": "2022-05-21T16:53:16.049Z"
   },
   {
    "duration": 32,
    "start_time": "2022-05-21T16:53:16.060Z"
   },
   {
    "duration": 6,
    "start_time": "2022-05-21T16:53:16.095Z"
   },
   {
    "duration": 1413,
    "start_time": "2022-05-26T18:00:03.453Z"
   },
   {
    "duration": 3,
    "start_time": "2022-05-26T18:00:10.737Z"
   },
   {
    "duration": 107,
    "start_time": "2022-05-26T18:00:13.403Z"
   },
   {
    "duration": 24,
    "start_time": "2022-05-26T18:00:15.197Z"
   },
   {
    "duration": 3,
    "start_time": "2022-05-26T18:00:18.448Z"
   },
   {
    "duration": 14,
    "start_time": "2022-05-26T18:00:20.470Z"
   },
   {
    "duration": 17,
    "start_time": "2022-05-26T18:00:23.090Z"
   },
   {
    "duration": 11,
    "start_time": "2022-05-26T18:04:40.995Z"
   },
   {
    "duration": 32,
    "start_time": "2022-05-26T18:05:04.653Z"
   },
   {
    "duration": 2197,
    "start_time": "2022-05-26T18:08:37.443Z"
   },
   {
    "duration": 2360,
    "start_time": "2022-05-26T18:09:41.581Z"
   },
   {
    "duration": 2228,
    "start_time": "2022-05-26T18:10:04.085Z"
   },
   {
    "duration": 34,
    "start_time": "2022-05-26T18:12:02.049Z"
   },
   {
    "duration": 224,
    "start_time": "2022-05-26T18:16:36.826Z"
   },
   {
    "duration": 19,
    "start_time": "2022-05-26T18:17:27.769Z"
   },
   {
    "duration": 5,
    "start_time": "2022-05-26T18:19:41.142Z"
   },
   {
    "duration": 5,
    "start_time": "2022-05-26T18:19:43.825Z"
   },
   {
    "duration": 5,
    "start_time": "2022-05-26T18:19:46.803Z"
   },
   {
    "duration": 5,
    "start_time": "2022-05-26T18:19:50.867Z"
   },
   {
    "duration": 9,
    "start_time": "2022-05-26T18:19:54.088Z"
   },
   {
    "duration": 8,
    "start_time": "2022-05-26T18:32:23.263Z"
   },
   {
    "duration": 3,
    "start_time": "2022-05-26T18:32:25.478Z"
   },
   {
    "duration": 9,
    "start_time": "2022-05-26T18:32:38.422Z"
   },
   {
    "duration": 210,
    "start_time": "2022-05-26T18:34:26.819Z"
   },
   {
    "duration": 54,
    "start_time": "2022-05-26T18:41:23.025Z"
   },
   {
    "duration": 45,
    "start_time": "2022-05-26T18:42:08.954Z"
   },
   {
    "duration": 390,
    "start_time": "2022-05-26T18:45:17.033Z"
   },
   {
    "duration": 8,
    "start_time": "2022-05-26T18:50:30.015Z"
   },
   {
    "duration": 335,
    "start_time": "2022-05-26T18:50:34.452Z"
   },
   {
    "duration": 205,
    "start_time": "2022-05-26T18:50:50.432Z"
   },
   {
    "duration": 376,
    "start_time": "2022-05-26T18:50:56.552Z"
   },
   {
    "duration": 10,
    "start_time": "2022-05-26T18:51:06.420Z"
   },
   {
    "duration": 4,
    "start_time": "2022-05-26T18:51:09.487Z"
   },
   {
    "duration": 337,
    "start_time": "2022-05-26T18:51:12.466Z"
   },
   {
    "duration": 332,
    "start_time": "2022-05-26T18:51:59.712Z"
   },
   {
    "duration": 4,
    "start_time": "2022-05-26T18:52:06.879Z"
   },
   {
    "duration": 4,
    "start_time": "2022-05-26T18:52:18.345Z"
   },
   {
    "duration": 65,
    "start_time": "2022-05-26T18:55:26.095Z"
   },
   {
    "duration": 297,
    "start_time": "2022-05-26T18:59:43.888Z"
   },
   {
    "duration": 396,
    "start_time": "2022-05-26T19:00:12.569Z"
   },
   {
    "duration": 52,
    "start_time": "2022-05-26T19:00:38.916Z"
   },
   {
    "duration": 4,
    "start_time": "2022-05-26T19:00:48.278Z"
   },
   {
    "duration": 5,
    "start_time": "2022-05-26T19:00:56.718Z"
   },
   {
    "duration": 361,
    "start_time": "2022-05-26T19:02:16.389Z"
   },
   {
    "duration": 4,
    "start_time": "2022-05-26T19:03:07.904Z"
   },
   {
    "duration": 4,
    "start_time": "2022-05-26T19:03:10.078Z"
   },
   {
    "duration": 27,
    "start_time": "2022-05-26T19:08:23.898Z"
   },
   {
    "duration": 28,
    "start_time": "2022-05-26T19:10:27.020Z"
   },
   {
    "duration": 3,
    "start_time": "2022-05-26T19:18:42.319Z"
   },
   {
    "duration": 16,
    "start_time": "2022-05-26T19:19:04.669Z"
   },
   {
    "duration": 6,
    "start_time": "2022-05-26T19:19:30.399Z"
   },
   {
    "duration": 23,
    "start_time": "2022-05-26T19:19:35.323Z"
   },
   {
    "duration": 5,
    "start_time": "2022-05-26T19:24:39.700Z"
   },
   {
    "duration": 7,
    "start_time": "2022-05-26T19:35:33.737Z"
   },
   {
    "duration": 5,
    "start_time": "2022-05-26T19:35:47.425Z"
   },
   {
    "duration": 4,
    "start_time": "2022-05-26T19:42:56.041Z"
   },
   {
    "duration": 5,
    "start_time": "2022-05-26T19:43:02.335Z"
   },
   {
    "duration": 8,
    "start_time": "2022-05-26T19:44:03.485Z"
   },
   {
    "duration": 5,
    "start_time": "2022-05-26T19:44:54.998Z"
   },
   {
    "duration": 6,
    "start_time": "2022-05-26T19:44:58.742Z"
   },
   {
    "duration": 1610,
    "start_time": "2022-05-27T07:03:21.239Z"
   },
   {
    "duration": 3,
    "start_time": "2022-05-27T07:03:25.204Z"
   },
   {
    "duration": 200,
    "start_time": "2022-05-27T07:03:26.684Z"
   },
   {
    "duration": 20,
    "start_time": "2022-05-27T07:03:28.424Z"
   },
   {
    "duration": 4,
    "start_time": "2022-05-27T07:03:31.481Z"
   },
   {
    "duration": 15,
    "start_time": "2022-05-27T07:03:33.544Z"
   },
   {
    "duration": 15,
    "start_time": "2022-05-27T07:03:37.084Z"
   },
   {
    "duration": 19,
    "start_time": "2022-05-27T07:03:51.042Z"
   },
   {
    "duration": 1898,
    "start_time": "2022-05-27T07:05:26.943Z"
   },
   {
    "duration": 6465,
    "start_time": "2022-05-27T07:07:47.671Z"
   },
   {
    "duration": 9,
    "start_time": "2022-05-27T07:08:57.526Z"
   },
   {
    "duration": 13,
    "start_time": "2022-05-27T07:11:28.890Z"
   },
   {
    "duration": 5,
    "start_time": "2022-05-27T07:16:09.021Z"
   },
   {
    "duration": 6,
    "start_time": "2022-05-27T07:16:11.744Z"
   },
   {
    "duration": 10,
    "start_time": "2022-05-27T07:16:14.391Z"
   },
   {
    "duration": 8,
    "start_time": "2022-05-27T07:16:17.702Z"
   },
   {
    "duration": 5,
    "start_time": "2022-05-27T07:17:15.541Z"
   },
   {
    "duration": 15,
    "start_time": "2022-05-27T07:18:39.163Z"
   },
   {
    "duration": 42,
    "start_time": "2022-05-27T07:19:55.737Z"
   },
   {
    "duration": 8,
    "start_time": "2022-05-27T07:22:41.022Z"
   },
   {
    "duration": 4,
    "start_time": "2022-05-27T07:22:43.623Z"
   },
   {
    "duration": 370,
    "start_time": "2022-05-27T07:23:50.701Z"
   },
   {
    "duration": 601,
    "start_time": "2022-05-27T07:27:11.915Z"
   },
   {
    "duration": 430,
    "start_time": "2022-05-27T07:33:17.314Z"
   },
   {
    "duration": 300,
    "start_time": "2022-05-27T07:33:30.374Z"
   },
   {
    "duration": 424,
    "start_time": "2022-05-27T07:42:40.239Z"
   },
   {
    "duration": 38,
    "start_time": "2022-05-27T07:42:51.494Z"
   },
   {
    "duration": 7,
    "start_time": "2022-05-27T07:42:58.339Z"
   },
   {
    "duration": 7,
    "start_time": "2022-05-27T07:43:21.914Z"
   },
   {
    "duration": 370,
    "start_time": "2022-05-27T07:43:33.421Z"
   },
   {
    "duration": 13,
    "start_time": "2022-05-27T07:43:51.521Z"
   },
   {
    "duration": 8,
    "start_time": "2022-05-27T07:43:53.607Z"
   },
   {
    "duration": 365,
    "start_time": "2022-05-27T07:43:55.514Z"
   },
   {
    "duration": 400,
    "start_time": "2022-05-27T07:44:00.755Z"
   },
   {
    "duration": 5,
    "start_time": "2022-05-27T07:44:07.979Z"
   },
   {
    "duration": 6,
    "start_time": "2022-05-27T07:44:19.814Z"
   },
   {
    "duration": 544,
    "start_time": "2022-05-27T07:44:48.069Z"
   },
   {
    "duration": 6,
    "start_time": "2022-05-27T07:44:58.210Z"
   },
   {
    "duration": 4,
    "start_time": "2022-05-27T07:45:00.273Z"
   },
   {
    "duration": 420,
    "start_time": "2022-05-27T07:45:02.996Z"
   },
   {
    "duration": 7,
    "start_time": "2022-05-27T07:45:05.590Z"
   },
   {
    "duration": 11,
    "start_time": "2022-05-27T07:45:07.492Z"
   },
   {
    "duration": 37,
    "start_time": "2022-05-27T07:45:40.553Z"
   },
   {
    "duration": 232,
    "start_time": "2022-05-27T07:45:56.001Z"
   },
   {
    "duration": 23,
    "start_time": "2022-05-27T07:46:05.393Z"
   },
   {
    "duration": 17,
    "start_time": "2022-05-27T07:46:08.562Z"
   },
   {
    "duration": 17,
    "start_time": "2022-05-27T07:46:11.625Z"
   },
   {
    "duration": 9,
    "start_time": "2022-05-27T07:47:07.542Z"
   },
   {
    "duration": 9,
    "start_time": "2022-05-27T07:47:10.644Z"
   },
   {
    "duration": 6,
    "start_time": "2022-05-27T07:47:31.554Z"
   },
   {
    "duration": 10,
    "start_time": "2022-05-27T07:47:59.305Z"
   },
   {
    "duration": 6,
    "start_time": "2022-05-27T07:48:01.252Z"
   },
   {
    "duration": 6,
    "start_time": "2022-05-27T07:48:03.972Z"
   },
   {
    "duration": 115,
    "start_time": "2022-05-27T08:19:22.937Z"
   },
   {
    "duration": 1206,
    "start_time": "2022-05-27T11:58:47.159Z"
   },
   {
    "duration": 2,
    "start_time": "2022-05-27T11:58:48.367Z"
   },
   {
    "duration": 55,
    "start_time": "2022-05-27T11:58:48.371Z"
   },
   {
    "duration": 16,
    "start_time": "2022-05-27T11:58:48.428Z"
   },
   {
    "duration": 2,
    "start_time": "2022-05-27T11:58:48.445Z"
   },
   {
    "duration": 17,
    "start_time": "2022-05-27T11:58:48.449Z"
   },
   {
    "duration": 15,
    "start_time": "2022-05-27T11:58:48.467Z"
   },
   {
    "duration": 20,
    "start_time": "2022-05-27T11:58:48.483Z"
   },
   {
    "duration": 8,
    "start_time": "2022-05-27T11:58:48.504Z"
   },
   {
    "duration": 4,
    "start_time": "2022-05-27T11:59:14.654Z"
   },
   {
    "duration": 12,
    "start_time": "2022-05-27T11:59:16.760Z"
   },
   {
    "duration": 3,
    "start_time": "2022-05-27T11:59:44.164Z"
   },
   {
    "duration": 13,
    "start_time": "2022-05-27T11:59:51.518Z"
   },
   {
    "duration": 3,
    "start_time": "2022-05-27T12:00:45.111Z"
   },
   {
    "duration": 38,
    "start_time": "2022-05-27T12:00:45.116Z"
   },
   {
    "duration": 96,
    "start_time": "2022-05-27T12:00:45.155Z"
   },
   {
    "duration": 35,
    "start_time": "2022-05-27T12:00:45.253Z"
   },
   {
    "duration": 0,
    "start_time": "2022-05-27T12:00:45.289Z"
   },
   {
    "duration": 0,
    "start_time": "2022-05-27T12:00:45.290Z"
   },
   {
    "duration": 0,
    "start_time": "2022-05-27T12:00:45.291Z"
   },
   {
    "duration": 0,
    "start_time": "2022-05-27T12:00:45.292Z"
   },
   {
    "duration": 0,
    "start_time": "2022-05-27T12:00:45.293Z"
   },
   {
    "duration": 0,
    "start_time": "2022-05-27T12:00:45.294Z"
   },
   {
    "duration": 0,
    "start_time": "2022-05-27T12:00:45.294Z"
   },
   {
    "duration": 0,
    "start_time": "2022-05-27T12:00:45.295Z"
   },
   {
    "duration": 0,
    "start_time": "2022-05-27T12:00:45.296Z"
   },
   {
    "duration": 4,
    "start_time": "2022-05-27T12:00:57.884Z"
   },
   {
    "duration": 25,
    "start_time": "2022-05-27T12:00:57.890Z"
   },
   {
    "duration": 93,
    "start_time": "2022-05-27T12:00:57.917Z"
   },
   {
    "duration": 4,
    "start_time": "2022-05-27T12:00:58.014Z"
   },
   {
    "duration": 57,
    "start_time": "2022-05-27T12:00:58.019Z"
   },
   {
    "duration": 11,
    "start_time": "2022-05-27T12:00:58.078Z"
   },
   {
    "duration": 41,
    "start_time": "2022-05-27T12:00:58.091Z"
   },
   {
    "duration": 36,
    "start_time": "2022-05-27T12:00:58.134Z"
   },
   {
    "duration": 47,
    "start_time": "2022-05-27T12:00:58.172Z"
   },
   {
    "duration": 11,
    "start_time": "2022-05-27T12:00:58.220Z"
   },
   {
    "duration": 128,
    "start_time": "2022-05-27T12:00:58.232Z"
   },
   {
    "duration": 5235,
    "start_time": "2022-05-27T12:03:45.001Z"
   },
   {
    "duration": 22,
    "start_time": "2022-05-27T12:04:25.862Z"
   },
   {
    "duration": 18,
    "start_time": "2022-05-27T12:04:36.864Z"
   },
   {
    "duration": 1080,
    "start_time": "2022-05-27T12:11:05.223Z"
   },
   {
    "duration": 3,
    "start_time": "2022-05-27T12:11:06.304Z"
   },
   {
    "duration": 56,
    "start_time": "2022-05-27T12:11:06.308Z"
   },
   {
    "duration": 3,
    "start_time": "2022-05-27T12:11:06.366Z"
   },
   {
    "duration": 22,
    "start_time": "2022-05-27T12:11:06.370Z"
   },
   {
    "duration": 3,
    "start_time": "2022-05-27T12:11:06.393Z"
   },
   {
    "duration": 15,
    "start_time": "2022-05-27T12:11:06.397Z"
   },
   {
    "duration": 14,
    "start_time": "2022-05-27T12:11:06.413Z"
   },
   {
    "duration": 42,
    "start_time": "2022-05-27T12:11:06.429Z"
   },
   {
    "duration": 9,
    "start_time": "2022-05-27T12:11:06.474Z"
   },
   {
    "duration": 20,
    "start_time": "2022-05-27T12:11:06.485Z"
   },
   {
    "duration": 12,
    "start_time": "2022-05-27T12:11:06.508Z"
   },
   {
    "duration": 5,
    "start_time": "2022-05-27T12:11:06.521Z"
   },
   {
    "duration": 33,
    "start_time": "2022-05-27T12:11:06.529Z"
   },
   {
    "duration": 19,
    "start_time": "2022-05-27T12:11:06.563Z"
   },
   {
    "duration": 41,
    "start_time": "2022-05-27T12:11:06.583Z"
   },
   {
    "duration": 17,
    "start_time": "2022-05-27T12:11:06.625Z"
   },
   {
    "duration": 13,
    "start_time": "2022-05-27T12:11:06.643Z"
   },
   {
    "duration": 2,
    "start_time": "2022-05-27T12:11:06.658Z"
   },
   {
    "duration": 32,
    "start_time": "2022-05-27T12:11:06.662Z"
   },
   {
    "duration": 5,
    "start_time": "2022-05-27T12:11:06.696Z"
   },
   {
    "duration": 6,
    "start_time": "2022-05-27T12:11:06.704Z"
   },
   {
    "duration": 5,
    "start_time": "2022-05-27T12:11:06.712Z"
   },
   {
    "duration": 13,
    "start_time": "2022-05-27T12:11:06.718Z"
   },
   {
    "duration": 6,
    "start_time": "2022-05-27T12:11:06.733Z"
   },
   {
    "duration": 237,
    "start_time": "2022-05-27T12:11:06.741Z"
   },
   {
    "duration": 417,
    "start_time": "2022-05-27T12:11:06.980Z"
   },
   {
    "duration": 25,
    "start_time": "2022-05-27T12:11:07.400Z"
   },
   {
    "duration": 30,
    "start_time": "2022-05-27T12:11:07.426Z"
   },
   {
    "duration": 56,
    "start_time": "2022-05-27T12:11:07.457Z"
   },
   {
    "duration": 380,
    "start_time": "2022-05-27T12:11:07.514Z"
   },
   {
    "duration": 13,
    "start_time": "2022-05-27T12:11:07.897Z"
   },
   {
    "duration": 33,
    "start_time": "2022-05-27T12:11:07.912Z"
   },
   {
    "duration": 384,
    "start_time": "2022-05-27T12:11:07.948Z"
   },
   {
    "duration": 296,
    "start_time": "2022-05-27T12:11:08.334Z"
   },
   {
    "duration": 4,
    "start_time": "2022-05-27T12:11:08.632Z"
   },
   {
    "duration": 7,
    "start_time": "2022-05-27T12:11:08.637Z"
   },
   {
    "duration": 356,
    "start_time": "2022-05-27T12:11:08.645Z"
   },
   {
    "duration": 4,
    "start_time": "2022-05-27T12:11:09.003Z"
   },
   {
    "duration": 16,
    "start_time": "2022-05-27T12:11:09.009Z"
   },
   {
    "duration": 348,
    "start_time": "2022-05-27T12:11:09.027Z"
   },
   {
    "duration": 3,
    "start_time": "2022-05-27T12:11:09.377Z"
   },
   {
    "duration": 30,
    "start_time": "2022-05-27T12:11:09.382Z"
   },
   {
    "duration": 65,
    "start_time": "2022-05-27T12:11:09.413Z"
   },
   {
    "duration": 189,
    "start_time": "2022-05-27T12:11:09.480Z"
   },
   {
    "duration": 15,
    "start_time": "2022-05-27T12:11:09.671Z"
   },
   {
    "duration": 22,
    "start_time": "2022-05-27T12:11:09.688Z"
   },
   {
    "duration": 2,
    "start_time": "2022-05-27T12:11:09.712Z"
   },
   {
    "duration": 36,
    "start_time": "2022-05-27T12:11:09.715Z"
   },
   {
    "duration": 9,
    "start_time": "2022-05-27T12:11:09.753Z"
   },
   {
    "duration": 15,
    "start_time": "2022-05-27T12:11:09.763Z"
   },
   {
    "duration": 12,
    "start_time": "2022-05-27T12:11:09.779Z"
   },
   {
    "duration": 14,
    "start_time": "2022-05-27T12:11:09.793Z"
   },
   {
    "duration": 27,
    "start_time": "2022-05-27T12:11:09.809Z"
   },
   {
    "duration": 14,
    "start_time": "2022-05-27T12:11:09.838Z"
   }
  ],
  "kernelspec": {
   "display_name": "Python 3 (ipykernel)",
   "language": "python",
   "name": "python3"
  },
  "language_info": {
   "codemirror_mode": {
    "name": "ipython",
    "version": 3
   },
   "file_extension": ".py",
   "mimetype": "text/x-python",
   "name": "python",
   "nbconvert_exporter": "python",
   "pygments_lexer": "ipython3",
   "version": "3.9.7"
  },
  "toc": {
   "base_numbering": 1,
   "nav_menu": {},
   "number_sections": true,
   "sideBar": true,
   "skip_h1_title": true,
   "title_cell": "Table of Contents",
   "title_sidebar": "Contents",
   "toc_cell": false,
   "toc_position": {
    "height": "calc(100% - 180px)",
    "left": "10px",
    "top": "150px",
    "width": "511.188px"
   },
   "toc_section_display": true,
   "toc_window_display": true
  }
 },
 "nbformat": 4,
 "nbformat_minor": 2
}
